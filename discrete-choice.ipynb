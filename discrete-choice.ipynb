{
 "cells": [
  {
   "cell_type": "code",
   "execution_count": 1,
   "metadata": {
    "collapsed": false
   },
   "outputs": [],
   "source": [
    "import pandas as pd\n",
    "import numpy as np\n",
    "import theano.tensor as T\n",
    "import theano\n",
    "import theano.gradient\n",
    "import pyipopt"
   ]
  },
  {
   "cell_type": "code",
   "execution_count": 2,
   "metadata": {
    "collapsed": false,
    "scrolled": false
   },
   "outputs": [],
   "source": [
    "inputfile = './data_new_volume.csv'\n",
    "df = pd.read_csv(inputfile)\n",
    "df['const'] = 1\n",
    "\n",
    "df['pgmidgrade_km_adj'].fillna(value=10000, inplace=True)\n",
    "\n",
    "df = df[(df['treattype'] < 3)]\n",
    "for elem in df['treattype'].unique():\n",
    "    df['treat' + str(elem)] = df['treattype'] == elem\n",
    "\n",
    "for elem in df['choice'].unique():\n",
    "    df['choice' + str(elem)] = df['choice'] == elem\n",
    "\n",
    "df['treat1_topusage'] = df['treat1']*df['dv_usageveh_p75p100']\n",
    "#df['treat2_topusage'] = df['treat2']*df['dv_usageveh_p75p100']\n",
    "\n",
    "df['treat1_college'] = df['treat1']*df['dv_somecollege']\n",
    "#df['treat2_college'] = df['treat2']*df['dv_somecollege']\n",
    "\n",
    "df.head()"
   ]
  },
  {
   "cell_type": "code",
   "execution_count": 3,
   "metadata": {
    "collapsed": false
   },
   "outputs": [],
   "source": [
    "#df = df[df['choice']!=2]\n",
    "#df['choice'][df['choice']==3] = 2"
   ]
  },
  {
   "cell_type": "code",
   "execution_count": 4,
   "metadata": {
    "collapsed": false
   },
   "outputs": [],
   "source": [
    "#df = df[ df['dv_carpriceadj_p75p100'] == 1]\n",
    "#df = df[ df['dv_usageveh_p75p100'] == 0]\n",
    "df.shape"
   ]
  },
  {
   "cell_type": "code",
   "execution_count": 5,
   "metadata": {
    "collapsed": false
   },
   "outputs": [],
   "source": [
    "price_labels = ['pg_km_adj', 'pgmidgrade_km_adj', 'pe_km_adj']\n",
    "value_labels = ['value_total']\n",
    "\n",
    "# all\n",
    "Xexpd_labels = ['choice2', 'choice3', 'dv_ctb', 'dv_bh', 'dv_rec', 'dv_female', 'dv_age_25to40y', 'dv_age_morethan65y', 'dv_somesecondary', 'dv_somecollege', 'dv_carpriceadj_p75p100', 'dv_usageveh_p75p100', 'stationvisit_avgcarprice_adj', 'const']\n",
    "Xutil_labels = ['dv_ctb', 'dv_bh', 'dv_rec', 'dv_female', 'dv_age_25to40y', 'dv_age_morethan65y', 'dv_somesecondary', 'dv_somecollege', 'dv_carpriceadj_p75p100', 'dv_usageveh_p75p100', 'stationvisit_avgcarprice_adj', 'const']\n",
    "\n",
    "# usage\n",
    "#Xexpd_labels = ['choice2', 'choice3', 'dv_ctb', 'dv_bh', 'dv_rec', 'dv_female', 'dv_age_25to40y', 'dv_age_morethan65y', 'dv_somesecondary', 'dv_somecollege', 'dv_carpriceadj_p75p100', 'stationvisit_avgcarprice_adj', 'const']\n",
    "#Xutil_labels = ['dv_ctb', 'dv_bh', 'dv_rec', 'dv_female', 'dv_age_25to40y', 'dv_age_morethan65y', 'dv_somesecondary', 'dv_somecollege', 'dv_carpriceadj_p75p100', 'stationvisit_avgcarprice_adj', 'const']\n",
    "\n",
    "# car price\n",
    "#Xexpd_labels = ['dv_ctb', 'dv_bh', 'dv_rec', 'dv_female', 'dv_age_25to40y', 'dv_age_morethan65y', 'dv_somesecondary', 'dv_somecollege', 'dv_usageveh_p75p100', 'stationvisit_avgcarprice_adj', 'const']\n",
    "#Xutil_labels = ['dv_ctb', 'dv_bh', 'dv_rec', 'dv_female', 'dv_age_25to40y', 'dv_age_morethan65y', 'dv_somesecondary', 'dv_somecollege', 'dv_usageveh_p75p100', 'stationvisit_avgcarprice_adj', 'const']\n",
    "\n",
    "Xalpha_labels = ['const']\n",
    "Xlsigma_labels = ['treat1', 'treat2']\n",
    "\n",
    "choice = df.loc[:, 'choice'].as_matrix()\n",
    "price = df.loc[:, price_labels].as_matrix()\n",
    "value = np.squeeze(df.loc[:, value_labels].as_matrix())\n",
    "Xexpd = df.loc[:, Xexpd_labels].as_matrix()\n",
    "Xutil = df.loc[:, Xutil_labels].as_matrix()\n",
    "\n",
    "Xalpha = df.loc[:, Xalpha_labels].as_matrix().astype(int)\n",
    "Xlsigma = df.loc[:, Xlsigma_labels].as_matrix()\n",
    "\n",
    "nobs, nchoice = price.shape\n",
    "nobs, nXutil = Xutil.shape\n",
    "\n",
    "nobs, nXalpha = Xalpha.shape\n",
    "nobs, nXlsigma = Xlsigma.shape\n",
    "\n",
    "choiceidx = np.ravel_multi_index((range(nobs), choice-1), (nobs, nchoice))\n",
    "\n",
    "pchoice = price[range(nobs), choice-1]\n",
    "\n",
    "ndraws = 500"
   ]
  },
  {
   "cell_type": "code",
   "execution_count": 6,
   "metadata": {
    "collapsed": false
   },
   "outputs": [],
   "source": [
    "# construct the look-up table to quickly find the actual choice for each individual\n",
    "# i.e. given index (i,r), find index (i,j,r) with j = choice of i\n",
    "ii, rr = np.mgrid[0:nobs, 0:ndraws]\n",
    "jj = np.tile(choice.reshape(nobs,1)-1, (1,ndraws))\n",
    "choice_flat_idx_3D = np.ravel_multi_index((ii, jj, rr), (nobs, nchoice, ndraws))\n"
   ]
  },
  {
   "cell_type": "code",
   "execution_count": 7,
   "metadata": {
    "collapsed": false
   },
   "outputs": [],
   "source": [
    "np.random.seed(1234)\n",
    "draws = np.random.normal(0., 1., (nobs, nchoice, ndraws))\n",
    "draws = draws - np.sum(draws, axis=2, keepdims=True)/ndraws"
   ]
  },
  {
   "cell_type": "markdown",
   "metadata": {},
   "source": [
    "$u_{ijr} = \\alpha_i p_j + X_i \\beta_j + \\rho_j z_{ir} + \\mu\\epsilon_{ij} = V_{ij} + \\rho_j z_{ir} + \\mu_i\\epsilon_{ij}$\n",
    "\n",
    "$z_{ir}$ is used to capture the correlation in between choices. $\\rho_0 = 0, \\rho_1 = \\rho_2 = \\rho$ if positive correlation and $ \\rho_1 = -\\rho_2 = \\rho$ if negative correlation\n",
    "\n",
    "$P(ijr) = \\frac{\\exp\\left(\\frac{V_{ij} + \\rho_j z_{ir}}{\\mu_i}\\right)}{\\sum_k \\exp\\left(\\frac{V_{ik} + \\rho_k z_{ir}}{\\mu_i}\\right)}$\n",
    "\n",
    "$P(ij) = \\frac{1}{R} \\sum_r \\frac{\\exp\\left(\\frac{V_{ij} + \\rho_j z_{ir}}{\\mu_i}\\right)}{\\sum_k \\exp\\left(\\frac{V_{ik} + \\rho_k z_{ir}}{\\mu_i}\\right)} =  \\frac{1}{R} \\exp\\left(\\frac{V_{ij}}{\\mu_i}\\right) \\sum_r \\frac{\\exp\\left(\\frac{\\rho_j z_{ir}}{\\mu_i}\\right)}{\\sum_k \\exp\\left(\\frac{V_{ik} + \\rho_k z_{ir}}{\\mu_i}\\right)}$\n",
    "\n",
    "$\\ln P(ij) = -\\ln R + \\frac{V_{ij}}{\\mu_i} + \\ln \\left(\\ \\sum_r \\frac{\\exp\\left(\\frac{\\rho_j z_{ir}}{\\mu_i}\\right)}{\\sum_k \\exp\\left(\\frac{V_{ik} + \\rho_k z_{ir}}{\\mu_i}\\right)} \\right)$"
   ]
  },
  {
   "cell_type": "code",
   "execution_count": 10,
   "metadata": {
    "collapsed": false
   },
   "outputs": [],
   "source": [
    "floatX = 'float64'\n",
    "\n",
    "theta0 = np.zeros(nXalpha + nXlsigma + (nchoice-1)*nXutil)\n",
    "theta0[0] = -20\n",
    "\n",
    "def getparams(theta):\n",
    "    offset = 0\n",
    "    gammaalpha = theta[offset:offset+nXalpha].reshape((nXalpha, 1))\n",
    "    \n",
    "    offset += nXalpha\n",
    "    gammalsigma = theta[offset:offset+nXlsigma].reshape((nXlsigma, 1))\n",
    "\n",
    "    offset += nXlsigma\n",
    "    betautil = theta[offset:offset+(nchoice-1)*nXutil].reshape((nXutil, nchoice-1))\n",
    "        \n",
    "    return gammaalpha, gammalsigma, betautil\n",
    "\n",
    "theta = T.dvector('theta')\n",
    "gammaalpha, gammalsigma, betautil = getparams(theta)\n",
    "\n",
    "priceT = theano.shared(price.astype(floatX), name='price')\n",
    "pchoiceT = theano.shared(pchoice.astype(floatX), name='pchoice')\n",
    "XutilT = theano.shared(Xutil.astype(floatX), name='Xutil')\n",
    "XalphaT = theano.shared(Xalpha.astype(floatX), name='Xalpha')\n",
    "XlsigmaT = theano.shared(Xlsigma.astype(floatX), name='Xlsigma')\n",
    "drawsT = theano.shared(draws, name = 'draws')\n",
    "\n",
    "sigma = T.exp(T.dot(XlsigmaT, gammalsigma))\n",
    "alpha = T.dot(Xalpha, gammaalpha)\n",
    "mu = 2\n",
    "\n",
    "util = alpha*priceT + T.concatenate([T.zeros((nobs, 1), dtype=floatX), T.dot(XutilT, betautil)], axis=1)\n",
    "util_noise = sigma.dimshuffle(0,1,'x')*drawsT\n",
    "util2 = util.dimshuffle((0,1,'x')) + util_noise - util_noise.flatten()[choice_flat_idx_3D].reshape((nobs,1,ndraws))\n",
    "nlogl = nobs*np.log(ndraws) - T.log(T.sum(1/T.sum(T.exp(util2/mu), axis=1), axis=1)).sum() - util.flatten()[choiceidx].sum()/mu "
   ]
  },
  {
   "cell_type": "code",
   "execution_count": 11,
   "metadata": {
    "collapsed": false
   },
   "outputs": [],
   "source": [
    "theano.function([theta], outputs = nlogl)(theta0)"
   ]
  },
  {
   "cell_type": "code",
   "execution_count": 12,
   "metadata": {
    "collapsed": false
   },
   "outputs": [],
   "source": [
    "def buildfunc(theta, nloglf):\n",
    "    return (theano.function([theta], outputs = nloglf),\n",
    "        theano.function([theta], outputs = T.grad(nloglf, [theta])),\n",
    "        theano.function([theta], outputs = theano.gradient.hessian(nloglf, [theta])))\n",
    "\n",
    "def buildeval(theta, nloglf):\n",
    "    f, grad, hess = buildfunc(theta, nloglf)\n",
    "    \n",
    "    def eval_f(thetavalue):\n",
    "        return f(thetavalue)\n",
    "\n",
    "    def eval_grad(thetavalue):\n",
    "        return np.squeeze(grad(thetavalue))\n",
    "\n",
    "    def eval_hess(thetavalue):\n",
    "        return np.squeeze(hess(thetavalue))\n",
    "\n",
    "    return eval_f, eval_grad, eval_hess\n",
    "\n",
    "eval_f, eval_grad, eval_hess = buildeval(theta, nlogl)"
   ]
  },
  {
   "cell_type": "code",
   "execution_count": null,
   "metadata": {
    "collapsed": false
   },
   "outputs": [],
   "source": [
    "#eval_hess(theta0)"
   ]
  },
  {
   "cell_type": "code",
   "execution_count": null,
   "metadata": {
    "collapsed": false
   },
   "outputs": [],
   "source": [
    "pyipopt.set_loglevel(1)\n",
    "thetahat , _, _, _, _, fval = pyipopt.fmin_unconstrained(\n",
    "    eval_f,\n",
    "    theta0,\n",
    "    fprime=eval_grad,\n",
    "    fhess=eval_hess,\n",
    "    )\n"
   ]
  },
  {
   "cell_type": "code",
   "execution_count": null,
   "metadata": {
    "collapsed": false
   },
   "outputs": [],
   "source": [
    "covhat = np.linalg.inv(eval_hess(thetahat))\n",
    "se = np.sqrt(np.diagonal(covhat))\n",
    "t = thetahat/se\n",
    "\n",
    "gammaalphahat, gammalsigmahat, betautilhat = getparams(thetahat)\n",
    "gammaalphase, gammalsigmase, betautilse = getparams(se)\n",
    "gammaalphat, gammalsigmat, betautilt = getparams(t)\n",
    "\n",
    "formatstr = '%30s%10.3f%10.3f%10.3f'\n",
    "\n",
    "print '-'*60\n",
    "\n",
    "print ' \\n*** alpha equation'\n",
    "for i in range(nXalpha):\n",
    "    print formatstr % (Xalpha_labels[i], gammaalphahat[i], gammaalphase[i], gammaalphat[i])\n",
    "print '-'*60\n",
    "\n",
    "print ' \\n*** ln(sigma) equation'\n",
    "for i in range(nXlsigma):\n",
    "    print formatstr % (Xlsigma_labels[i], gammalsigmahat[i], gammalsigmase[i], gammalsigmat[i])\n",
    "print '-'*60\n",
    "\n",
    "print ' \\n*** Discrete choice equation'\n",
    "for j in range(nchoice-1):\n",
    "    print '-------- choice', j+1, '------------------------------------------'\n",
    "    for i in range(nXutil):\n",
    "        print formatstr % (Xutil_labels[i], betautilhat[i][j], betautilse[i][j], betautilt[i][j])\n",
    "print '-'*60\n"
   ]
  },
  {
   "cell_type": "code",
   "execution_count": null,
   "metadata": {
    "collapsed": false
   },
   "outputs": [],
   "source": [
    "\n",
    "sigmahat = np.exp(gammalsigmahat)\n",
    "\n",
    "1-(np.pi**2/6*mu**2 + sigmahat**2)/(np.pi**2/6*mu**2 + 1)"
   ]
  }
 ],
 "metadata": {
  "anaconda-cloud": {},
  "git": {
   "suppress_outputs": true
  },
  "kernelspec": {
   "display_name": "Python [default]",
   "language": "python",
   "name": "python2"
  },
  "language_info": {
   "codemirror_mode": {
    "name": "ipython",
    "version": 2
   },
   "file_extension": ".py",
   "mimetype": "text/x-python",
   "name": "python",
   "nbconvert_exporter": "python",
   "pygments_lexer": "ipython2",
   "version": "2.7.12"
  }
 },
 "nbformat": 4,
 "nbformat_minor": 0
}