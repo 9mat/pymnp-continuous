{
 "cells": [
  {
   "cell_type": "code",
   "execution_count": 1,
   "metadata": {
    "collapsed": false
   },
   "outputs": [],
   "source": [
    "import tensorflow as tf\n",
    "import pyipopt\n"
   ]
  },
  {
   "cell_type": "code",
   "execution_count": 2,
   "metadata": {
    "collapsed": true
   },
   "outputs": [],
   "source": [
    "from IPython.display import clear_output, Image, display, HTML\n",
    "\n",
    "def strip_consts(graph_def, max_const_size=32):\n",
    "    \"\"\"Strip large constant values from graph_def.\"\"\"\n",
    "    strip_def = tf.GraphDef()\n",
    "    for n0 in graph_def.node:\n",
    "        n = strip_def.node.add() \n",
    "        n.MergeFrom(n0)\n",
    "        if n.op == 'Const':\n",
    "            tensor = n.attr['value'].tensor\n",
    "            size = len(tensor.tensor_content)\n",
    "            if size > max_const_size:\n",
    "                tensor.tensor_content = bytes(\"<stripped %d bytes>\"%size, 'utf-8')\n",
    "    return strip_def\n",
    "\n",
    "def show_graph(graph_def, max_const_size=32):\n",
    "    \"\"\"Visualize TensorFlow graph.\"\"\"\n",
    "    if hasattr(graph_def, 'as_graph_def'):\n",
    "        graph_def = graph_def.as_graph_def()\n",
    "    strip_def = strip_consts(graph_def, max_const_size=max_const_size)\n",
    "    code = \"\"\"\n",
    "        <script>\n",
    "          function load() {{\n",
    "            document.getElementById(\"{id}\").pbtxt = {data};\n",
    "          }}\n",
    "        </script>\n",
    "        <link rel=\"import\" href=\"https://tensorboard.appspot.com/tf-graph-basic.build.html\" onload=load()>\n",
    "        <div style=\"height:600px\">\n",
    "          <tf-graph-basic id=\"{id}\"></tf-graph-basic>\n",
    "        </div>\n",
    "    \"\"\".format(data=repr(str(strip_def)), id='graph'+str(np.random.rand()))\n",
    "  \n",
    "    iframe = \"\"\"\n",
    "        <iframe seamless style=\"width:800px;height:620px;border:0\" srcdoc=\"{}\"></iframe>\n",
    "    \"\"\".format(code.replace('\"', '&quot;'))\n",
    "    display(HTML(iframe))\n"
   ]
  },
  {
   "cell_type": "code",
   "execution_count": 3,
   "metadata": {
    "collapsed": false
   },
   "outputs": [],
   "source": [
    "import numpy as np\n",
    "\n",
    "#OLS\n",
    "alpha = 1.0\n",
    "beta = 2.0\n",
    "sigma = 0.5\n",
    "N = 10000\n",
    "x = np.random.rand(N,)*0.3+0.1\n",
    "y = alpha + beta*x + np.random.normal(size=x.shape)*sigma"
   ]
  },
  {
   "cell_type": "code",
   "execution_count": 4,
   "metadata": {
    "collapsed": false
   },
   "outputs": [
    {
     "name": "stdout",
     "output_type": "stream",
     "text": [
      "[ 0.97447131  2.10162212 -0.69133064]\n"
     ]
    }
   ],
   "source": [
    "tfdtype = tf.float64\n",
    "npdtype = np.float64\n",
    "\n",
    "alpha = tf.Variable(0.0, name = 'alpha', dtype=tfdtype)\n",
    "beta  = tf.Variable(0.0, name = 'beta',  dtype=tfdtype)\n",
    "lsigma = tf.Variable(1.0, name = 'lsigma', dtype=tfdtype)\n",
    "\n",
    "dist = tf.contrib.distributions.Normal(npdtype(0.0), tf.exp(lsigma))\n",
    "ll = -tf.reduce_sum(dist.log_pdf(y-alpha-beta*x))\n",
    "grad = tf.gradients(ll, [alpha, beta, lsigma])\n",
    "\n",
    "sess = tf.InteractiveSession()\n",
    "\n",
    "def assign_value(theta0):\n",
    "    alpha0, beta0, lsigma0 = theta0\n",
    "    sess.run([alpha.assign(alpha0), \n",
    "              beta.assign(beta0), \n",
    "              lsigma.assign(lsigma0)])\n",
    "    \n",
    "def eval_f(theta0):\n",
    "    assign_value(theta0)\n",
    "    return sess.run(ll)\n",
    "\n",
    "def eval_grad(theta0):\n",
    "    assign_value(theta0)\n",
    "    g = np.array(sess.run(grad))\n",
    "    return g\n",
    "\n",
    "sess.run(tf.global_variables_initializer())\n",
    "\n",
    "pyipopt.set_loglevel(1)\n",
    "thetahat , _, _, _, _, _ = pyipopt.fmin_unconstrained(\n",
    "    eval_f,\n",
    "    np.array([0.0, 0.0, np.log(0.1)]),\n",
    "    fprime=eval_grad,\n",
    "    fhess=None,\n",
    "    )\n",
    "\n",
    "sess.close()\n",
    "print thetahat\n",
    "\n"
   ]
  },
  {
   "cell_type": "code",
   "execution_count": 5,
   "metadata": {
    "collapsed": false
   },
   "outputs": [
    {
     "name": "stdout",
     "output_type": "stream",
     "text": [
      "[ 0.97447131  2.10162212 -0.69133064]\n"
     ]
    }
   ],
   "source": [
    "import theano\n",
    "import theano.tensor as T\n",
    "theta = T.dvector('theta')\n",
    "alpha = theta[0]\n",
    "beta = theta[1]\n",
    "lsigma = theta[2]\n",
    "\n",
    "err = y - alpha - beta*x\n",
    "ll = T.sum(err*err)/(2*T.exp(2*lsigma)) + len(y)*lsigma\n",
    "grad = T.grad(ll, theta)\n",
    "eval_f = theano.function([theta], ll)\n",
    "\n",
    "eval_grad = theano.function([theta], grad)\n",
    "pyipopt.set_loglevel(1)\n",
    "thetahat , _, _, _, _, _ = pyipopt.fmin_unconstrained(\n",
    "    eval_f,\n",
    "    np.array([0.0, 0.0, np.log(0.1)]),\n",
    "    fprime=eval_grad,\n",
    "    fhess=None,\n",
    "    )\n",
    "\n",
    "print thetahat\n"
   ]
  },
  {
   "cell_type": "code",
   "execution_count": 6,
   "metadata": {
    "collapsed": false
   },
   "outputs": [],
   "source": [
    "import numpy as np\n",
    "\n",
    "# simulate data\n",
    "N=10000\n",
    "mutheta = 0\n",
    "sigmatheta = 1.0\n",
    "elas = 0.6\n",
    "sigmanu = 1.0\n",
    "\n",
    "p = np.random.random((2,N))*0.3+0.2\n",
    "theta = np.random.lognormal(mutheta, sigmatheta, (N,))\n",
    "expend = np.exp((1-elas)*np.log(p) + elas*np.log(theta))\n",
    "value = expend/(elas-1) + sigmanu*np.random.gumbel(size=expend.shape)\n",
    "choice = np.argmax(value, axis = 0)\n"
   ]
  },
  {
   "cell_type": "code",
   "execution_count": 7,
   "metadata": {
    "collapsed": false
   },
   "outputs": [
    {
     "name": "stderr",
     "output_type": "stream",
     "text": [
      "/home/dhlong/anaconda2/envs/research/lib/python2.7/site-packages/matplotlib/font_manager.py:273: UserWarning: Matplotlib is building the font cache using fc-list. This may take a moment.\n",
      "  warnings.warn('Matplotlib is building the font cache using fc-list. This may take a moment.')\n"
     ]
    },
    {
     "data": {
      "text/plain": [
       "(array([  9.00000000e+00,   7.10000000e+01,   5.06000000e+02,\n",
       "          2.83200000e+03,   8.42200000e+03,   6.39300000e+03,\n",
       "          1.50800000e+03,   2.18000000e+02,   3.40000000e+01,\n",
       "          7.00000000e+00]),\n",
       " array([ -9.42826664,  -7.46606471,  -5.50386278,  -3.54166085,\n",
       "         -1.57945892,   0.382743  ,   2.34494493,   4.30714686,\n",
       "          6.26934879,   8.23155072,  10.19375265]),\n",
       " <a list of 10 Patch objects>)"
      ]
     },
     "execution_count": 7,
     "metadata": {},
     "output_type": "execute_result"
    },
    {
     "data": {
      "image/png": "[encoded data removed]",
      "text/plain": [
       "<matplotlib.figure.Figure at 0x7fcbdb535a50>"
      ]
     },
     "metadata": {},
     "output_type": "display_data"
    }
   ],
   "source": [
    "import matplotlib.pyplot as plt\n",
    "\n",
    "%matplotlib inline\n",
    "plt.hist(np.random.logistic(size=(expend.shape)).flatten())"
   ]
  },
  {
   "cell_type": "code",
   "execution_count": 8,
   "metadata": {
    "collapsed": true
   },
   "outputs": [],
   "source": [
    "dvchoice = (choice == np.array([0,1]).reshape(2,1))\n",
    "expendchoice = expend[choice, range(N)]\n",
    "pchoice = p[choice, range(N)]"
   ]
  },
  {
   "cell_type": "code",
   "execution_count": 9,
   "metadata": {
    "collapsed": false
   },
   "outputs": [],
   "source": [
    "# lelas = tf.Variable(np.log(0.6).astype(np.float32), name = 'lelas')\n",
    "# elas = tf.exp(lelas)\n",
    "theta = T.dvector('theta')\n",
    "lelas = theta[0]\n",
    "mutheta = theta[1]\n",
    "lsigmatheta = theta[2]\n",
    "\n",
    "elas = T.exp(lelas)\n",
    "sigmatheta = T.exp(lsigmatheta)"
   ]
  },
  {
   "cell_type": "code",
   "execution_count": 14,
   "metadata": {
    "collapsed": false
   },
   "outputs": [],
   "source": [
    "ltheta = (np.log(expendchoice) - (1-elas)*np.log(pchoice) - mutheta)/elas\n",
    "lexpend = np.log(expendchoice) + (1-elas)*(np.log(p)-np.log(pchoice))\n",
    "value = T.exp(lexpend)/(elas-1)\n",
    "softmax = T.nnet.softmax(value.transpose()).transpose()\n",
    "likelihood = ((ltheta**2).sum()/(2*T.exp(2*lsigmatheta)) + lsigmatheta*len(expendchoice)\n",
    "              + T.nnet.categorical_crossentropy(softmax.transpose(), dvchoice.transpose()).sum())\n",
    "grad = T.grad(likelihood, theta)"
   ]
  },
  {
   "cell_type": "code",
   "execution_count": 23,
   "metadata": {
    "collapsed": false
   },
   "outputs": [
    {
     "name": "stdout",
     "output_type": "stream",
     "text": [
      "[ 0.97580668  0.66187463  0.76545474 ...,  0.6324142   0.50936041\n",
      "  0.53271218]\n",
      "[[-0.47302933 -0.72542936 -0.76545474 ..., -0.6324142  -0.91849259\n",
      "  -0.53271218]\n",
      " [-0.97580668 -0.66187463 -0.62571729 ..., -0.75780852 -0.50936041\n",
      "  -0.88433366]]\n",
      "[[False False  True ...,  True False  True]\n",
      " [ True  True False ..., False  True False]]\n"
     ]
    }
   ],
   "source": [
    "print theano.function([theta], T.nnet.categorical_crossentropy(softmax.transpose(), dvchoice.transpose()))(np.array([np.log(0.6), 0.0, 1.0]))\n",
    "print theano.function([theta], T.log(softmax))(np.array([np.log(0.6), 0.0, 1.0]))\n",
    "print dvchoice"
   ]
  },
  {
   "cell_type": "code",
   "execution_count": 15,
   "metadata": {
    "collapsed": false
   },
   "outputs": [],
   "source": [
    "eval_f = theano.function([theta], likelihood)\n",
    "eval_grad = theano.function([theta], grad)"
   ]
  },
  {
   "cell_type": "code",
   "execution_count": 25,
   "metadata": {
    "collapsed": false
   },
   "outputs": [
    {
     "ename": "KeyboardInterrupt",
     "evalue": "",
     "output_type": "error",
     "traceback": [
      "\u001b[0;31m---------------------------------------------------------------------------\u001b[0m",
      "\u001b[0;31mKeyboardInterrupt\u001b[0m                         Traceback (most recent call last)",
      "\u001b[0;32m/home/dhlong/anaconda2/envs/research/lib/python2.7/site-packages/theano/compile/function_module.pyc\u001b[0m in \u001b[0;36m__call__\u001b[0;34m(self, *args, **kwargs)\u001b[0m\n\u001b[1;32m    857\u001b[0m         \u001b[0mt0_fn\u001b[0m \u001b[0;34m=\u001b[0m \u001b[0mtime\u001b[0m\u001b[0;34m.\u001b[0m\u001b[0mtime\u001b[0m\u001b[0;34m(\u001b[0m\u001b[0;34m)\u001b[0m\u001b[0;34m\u001b[0m\u001b[0m\n\u001b[1;32m    858\u001b[0m         \u001b[0;32mtry\u001b[0m\u001b[0;34m:\u001b[0m\u001b[0;34m\u001b[0m\u001b[0m\n\u001b[0;32m--> 859\u001b[0;31m             \u001b[0moutputs\u001b[0m \u001b[0;34m=\u001b[0m \u001b[0mself\u001b[0m\u001b[0;34m.\u001b[0m\u001b[0mfn\u001b[0m\u001b[0;34m(\u001b[0m\u001b[0;34m)\u001b[0m\u001b[0;34m\u001b[0m\u001b[0m\n\u001b[0m\u001b[1;32m    860\u001b[0m         \u001b[0;32mexcept\u001b[0m \u001b[0mException\u001b[0m\u001b[0;34m:\u001b[0m\u001b[0;34m\u001b[0m\u001b[0m\n\u001b[1;32m    861\u001b[0m             \u001b[0;32mif\u001b[0m \u001b[0mhasattr\u001b[0m\u001b[0;34m(\u001b[0m\u001b[0mself\u001b[0m\u001b[0;34m.\u001b[0m\u001b[0mfn\u001b[0m\u001b[0;34m,\u001b[0m \u001b[0;34m'position_of_error'\u001b[0m\u001b[0;34m)\u001b[0m\u001b[0;34m:\u001b[0m\u001b[0;34m\u001b[0m\u001b[0m\n",
      "\u001b[0;31mKeyboardInterrupt\u001b[0m: "
     ]
    },
    {
     "ename": "KeyboardInterrupt",
     "evalue": "",
     "output_type": "error",
     "traceback": [
      "\u001b[0;31m---------------------------------------------------------------------------\u001b[0m",
      "\u001b[0;31mKeyboardInterrupt\u001b[0m                         Traceback (most recent call last)",
      "\u001b[0;32m/home/dhlong/anaconda2/envs/research/lib/python2.7/site-packages/theano/compile/function_module.pyc\u001b[0m in \u001b[0;36m__call__\u001b[0;34m(self, *args, **kwargs)\u001b[0m\n\u001b[1;32m    857\u001b[0m         \u001b[0mt0_fn\u001b[0m \u001b[0;34m=\u001b[0m \u001b[0mtime\u001b[0m\u001b[0;34m.\u001b[0m\u001b[0mtime\u001b[0m\u001b[0;34m(\u001b[0m\u001b[0;34m)\u001b[0m\u001b[0;34m\u001b[0m\u001b[0m\n\u001b[1;32m    858\u001b[0m         \u001b[0;32mtry\u001b[0m\u001b[0;34m:\u001b[0m\u001b[0;34m\u001b[0m\u001b[0m\n\u001b[0;32m--> 859\u001b[0;31m             \u001b[0moutputs\u001b[0m \u001b[0;34m=\u001b[0m \u001b[0mself\u001b[0m\u001b[0;34m.\u001b[0m\u001b[0mfn\u001b[0m\u001b[0;34m(\u001b[0m\u001b[0;34m)\u001b[0m\u001b[0;34m\u001b[0m\u001b[0m\n\u001b[0m\u001b[1;32m    860\u001b[0m         \u001b[0;32mexcept\u001b[0m \u001b[0mException\u001b[0m\u001b[0;34m:\u001b[0m\u001b[0;34m\u001b[0m\u001b[0m\n\u001b[1;32m    861\u001b[0m             \u001b[0;32mif\u001b[0m \u001b[0mhasattr\u001b[0m\u001b[0;34m(\u001b[0m\u001b[0mself\u001b[0m\u001b[0;34m.\u001b[0m\u001b[0mfn\u001b[0m\u001b[0;34m,\u001b[0m \u001b[0;34m'position_of_error'\u001b[0m\u001b[0;34m)\u001b[0m\u001b[0;34m:\u001b[0m\u001b[0;34m\u001b[0m\u001b[0m\n",
      "\u001b[0;31mKeyboardInterrupt\u001b[0m: "
     ]
    },
    {
     "name": "stdout",
     "output_type": "stream",
     "text": [
      "[ 3.78070915  0.03051045  0.26637153]\n",
      "-283.45321679\n"
     ]
    }
   ],
   "source": [
    "pyipopt.set_loglevel(1)\n",
    "thetahat , _, _, _, _, _ = pyipopt.fmin_unconstrained(\n",
    "    eval_f,\n",
    "    np.array([np.log(0.6), 0.0, 1.0]),\n",
    "    fprime=eval_grad,\n",
    "    fhess=None,\n",
    "    )\n",
    "\n",
    "lelashat = thetahat[0]\n",
    "print np.exp(thetahat)\n",
    "print eval_f(thetahat)"
   ]
  }
 ],
 "metadata": {
  "anaconda-cloud": {},
  "kernelspec": {
   "display_name": "Python [conda env:research]",
   "language": "python",
   "name": "conda-env-research-py"
  },
  "language_info": {
   "codemirror_mode": {
    "name": "ipython",
    "version": 2
   },
   "file_extension": ".py",
   "mimetype": "text/x-python",
   "name": "python",
   "nbconvert_exporter": "python",
   "pygments_lexer": "ipython2",
   "version": "2.7.12"
  }
 },
 "nbformat": 4,
 "nbformat_minor": 2
}
