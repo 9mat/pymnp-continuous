{
 "cells": [
  {
   "cell_type": "code",
   "execution_count": 1,
   "metadata": {
    "collapsed": false
   },
   "outputs": [],
   "source": [
    "import pandas as pd\n",
    "import numpy as np\n",
    "import theano.tensor as T\n",
    "import theano\n",
    "import theano.gradient\n",
    "import pyipopt"
   ]
  },
  {
   "cell_type": "code",
   "execution_count": 2,
   "metadata": {
    "collapsed": false,
    "scrolled": false
   },
   "outputs": [
    {
     "data": {
      "text/html": [
       "<div>\n",
       "<table border=\"1\" class=\"dataframe\">\n",
       "  <thead>\n",
       "    <tr style=\"text-align: right;\">\n",
       "      <th></th>\n",
       "      <th>consumerid</th>\n",
       "      <th>choice</th>\n",
       "      <th>value_total</th>\n",
       "      <th>treattype</th>\n",
       "      <th>pg_km_adj</th>\n",
       "      <th>pgmidgrade_km_adj</th>\n",
       "      <th>pe_km_adj</th>\n",
       "      <th>dv_ctb</th>\n",
       "      <th>dv_bh</th>\n",
       "      <th>dv_rec</th>\n",
       "      <th>...</th>\n",
       "      <th>dv_usageveh_p75p100</th>\n",
       "      <th>stationvisit_avgcarprice_adj</th>\n",
       "      <th>const</th>\n",
       "      <th>treat0</th>\n",
       "      <th>treat2</th>\n",
       "      <th>choice1</th>\n",
       "      <th>choice3</th>\n",
       "      <th>choice2</th>\n",
       "      <th>treat2_topusage</th>\n",
       "      <th>treat2_college</th>\n",
       "    </tr>\n",
       "  </thead>\n",
       "  <tbody>\n",
       "    <tr>\n",
       "      <th>0</th>\n",
       "      <td>1</td>\n",
       "      <td>1</td>\n",
       "      <td>93.01</td>\n",
       "      <td>0</td>\n",
       "      <td>0.277658</td>\n",
       "      <td>0.287946</td>\n",
       "      <td>0.278875</td>\n",
       "      <td>0</td>\n",
       "      <td>0</td>\n",
       "      <td>0</td>\n",
       "      <td>...</td>\n",
       "      <td>0</td>\n",
       "      <td>30.71706</td>\n",
       "      <td>1</td>\n",
       "      <td>True</td>\n",
       "      <td>False</td>\n",
       "      <td>True</td>\n",
       "      <td>False</td>\n",
       "      <td>False</td>\n",
       "      <td>0</td>\n",
       "      <td>0</td>\n",
       "    </tr>\n",
       "    <tr>\n",
       "      <th>1</th>\n",
       "      <td>2</td>\n",
       "      <td>1</td>\n",
       "      <td>110.23</td>\n",
       "      <td>0</td>\n",
       "      <td>0.273559</td>\n",
       "      <td>0.283694</td>\n",
       "      <td>0.274711</td>\n",
       "      <td>0</td>\n",
       "      <td>0</td>\n",
       "      <td>0</td>\n",
       "      <td>...</td>\n",
       "      <td>1</td>\n",
       "      <td>30.71706</td>\n",
       "      <td>1</td>\n",
       "      <td>True</td>\n",
       "      <td>False</td>\n",
       "      <td>True</td>\n",
       "      <td>False</td>\n",
       "      <td>False</td>\n",
       "      <td>0</td>\n",
       "      <td>0</td>\n",
       "    </tr>\n",
       "    <tr>\n",
       "      <th>2</th>\n",
       "      <td>3</td>\n",
       "      <td>1</td>\n",
       "      <td>20.00</td>\n",
       "      <td>0</td>\n",
       "      <td>0.304767</td>\n",
       "      <td>0.316058</td>\n",
       "      <td>0.316189</td>\n",
       "      <td>0</td>\n",
       "      <td>0</td>\n",
       "      <td>0</td>\n",
       "      <td>...</td>\n",
       "      <td>0</td>\n",
       "      <td>30.71706</td>\n",
       "      <td>1</td>\n",
       "      <td>True</td>\n",
       "      <td>False</td>\n",
       "      <td>True</td>\n",
       "      <td>False</td>\n",
       "      <td>False</td>\n",
       "      <td>0</td>\n",
       "      <td>0</td>\n",
       "    </tr>\n",
       "    <tr>\n",
       "      <th>3</th>\n",
       "      <td>4</td>\n",
       "      <td>1</td>\n",
       "      <td>60.00</td>\n",
       "      <td>0</td>\n",
       "      <td>0.288213</td>\n",
       "      <td>0.298892</td>\n",
       "      <td>0.303164</td>\n",
       "      <td>0</td>\n",
       "      <td>0</td>\n",
       "      <td>0</td>\n",
       "      <td>...</td>\n",
       "      <td>1</td>\n",
       "      <td>30.71706</td>\n",
       "      <td>1</td>\n",
       "      <td>True</td>\n",
       "      <td>False</td>\n",
       "      <td>True</td>\n",
       "      <td>False</td>\n",
       "      <td>False</td>\n",
       "      <td>0</td>\n",
       "      <td>0</td>\n",
       "    </tr>\n",
       "    <tr>\n",
       "      <th>4</th>\n",
       "      <td>5</td>\n",
       "      <td>1</td>\n",
       "      <td>108.88</td>\n",
       "      <td>0</td>\n",
       "      <td>0.247228</td>\n",
       "      <td>0.256388</td>\n",
       "      <td>0.262381</td>\n",
       "      <td>0</td>\n",
       "      <td>0</td>\n",
       "      <td>0</td>\n",
       "      <td>...</td>\n",
       "      <td>1</td>\n",
       "      <td>30.71706</td>\n",
       "      <td>1</td>\n",
       "      <td>True</td>\n",
       "      <td>False</td>\n",
       "      <td>True</td>\n",
       "      <td>False</td>\n",
       "      <td>False</td>\n",
       "      <td>0</td>\n",
       "      <td>0</td>\n",
       "    </tr>\n",
       "  </tbody>\n",
       "</table>\n",
       "<p>5 rows × 26 columns</p>\n",
       "</div>"
      ],
      "text/plain": [
       "   consumerid  choice  value_total  treattype  pg_km_adj  pgmidgrade_km_adj  \\\n",
       "0           1       1        93.01          0   0.277658           0.287946   \n",
       "1           2       1       110.23          0   0.273559           0.283694   \n",
       "2           3       1        20.00          0   0.304767           0.316058   \n",
       "3           4       1        60.00          0   0.288213           0.298892   \n",
       "4           5       1       108.88          0   0.247228           0.256388   \n",
       "\n",
       "   pe_km_adj  dv_ctb  dv_bh  dv_rec      ...        dv_usageveh_p75p100  \\\n",
       "0   0.278875       0      0       0      ...                          0   \n",
       "1   0.274711       0      0       0      ...                          1   \n",
       "2   0.316189       0      0       0      ...                          0   \n",
       "3   0.303164       0      0       0      ...                          1   \n",
       "4   0.262381       0      0       0      ...                          1   \n",
       "\n",
       "   stationvisit_avgcarprice_adj  const  treat0  treat2  choice1  choice3  \\\n",
       "0                      30.71706      1    True   False     True    False   \n",
       "1                      30.71706      1    True   False     True    False   \n",
       "2                      30.71706      1    True   False     True    False   \n",
       "3                      30.71706      1    True   False     True    False   \n",
       "4                      30.71706      1    True   False     True    False   \n",
       "\n",
       "   choice2  treat2_topusage treat2_college  \n",
       "0    False                0              0  \n",
       "1    False                0              0  \n",
       "2    False                0              0  \n",
       "3    False                0              0  \n",
       "4    False                0              0  \n",
       "\n",
       "[5 rows x 26 columns]"
      ]
     },
     "execution_count": 2,
     "metadata": {},
     "output_type": "execute_result"
    }
   ],
   "source": [
    "inputfile = './data_new_volume.csv'\n",
    "df = pd.read_csv(inputfile)\n",
    "df['const'] = 1\n",
    "\n",
    "df['pgmidgrade_km_adj'].fillna(value=10000, inplace=True)\n",
    "\n",
    "df = df[(df['treattype'] == 2) | (df['treattype'] == 0) ]\n",
    "for elem in df['treattype'].unique():\n",
    "    df['treat' + str(elem)] = df['treattype'] == elem\n",
    "\n",
    "for elem in df['choice'].unique():\n",
    "    df['choice' + str(elem)] = df['choice'] == elem\n",
    "\n",
    "#df['treat1_topusage'] = df['treat1']*df['dv_usageveh_p75p100']\n",
    "df['treat2_topusage'] = df['treat2']*df['dv_usageveh_p75p100']\n",
    "\n",
    "#df['treat1_college'] = df['treat1']*df['dv_somecollege']\n",
    "df['treat2_college'] = df['treat2']*df['dv_somecollege']\n",
    "\n",
    "df.head()"
   ]
  },
  {
   "cell_type": "code",
   "execution_count": 3,
   "metadata": {
    "collapsed": false
   },
   "outputs": [],
   "source": [
    "#df = df[df['choice']!=2]\n",
    "#df['choice'][df['choice']==3] = 2"
   ]
  },
  {
   "cell_type": "code",
   "execution_count": 4,
   "metadata": {
    "collapsed": false
   },
   "outputs": [
    {
     "data": {
      "text/plain": [
       "(7902, 26)"
      ]
     },
     "execution_count": 4,
     "metadata": {},
     "output_type": "execute_result"
    }
   ],
   "source": [
    "#df = df[ df['dv_carpriceadj_p75p100'] == 1]\n",
    "#df = df[ df['dv_usageveh_p75p100'] == 0]\n",
    "df.shape"
   ]
  },
  {
   "cell_type": "code",
   "execution_count": 5,
   "metadata": {
    "collapsed": false
   },
   "outputs": [],
   "source": [
    "price_labels = ['pg_km_adj', 'pgmidgrade_km_adj', 'pe_km_adj']\n",
    "value_labels = ['value_total']\n",
    "\n",
    "# all\n",
    "Xexpd_labels = ['choice2', 'choice3', 'dv_ctb', 'dv_bh', 'dv_rec', 'dv_female', 'dv_age_25to40y', 'dv_age_morethan65y', 'dv_somesecondary', 'dv_somecollege', 'dv_carpriceadj_p75p100', 'dv_usageveh_p75p100', 'stationvisit_avgcarprice_adj', 'const']\n",
    "Xutil_labels = ['dv_ctb', 'dv_bh', 'dv_rec', 'dv_female', 'dv_age_25to40y', 'dv_age_morethan65y', 'dv_somesecondary', 'dv_somecollege', 'dv_carpriceadj_p75p100', 'dv_usageveh_p75p100', 'stationvisit_avgcarprice_adj', 'const']\n",
    "\n",
    "# usage\n",
    "#Xexpd_labels = ['choice2', 'choice3', 'dv_ctb', 'dv_bh', 'dv_rec', 'dv_female', 'dv_age_25to40y', 'dv_age_morethan65y', 'dv_somesecondary', 'dv_somecollege', 'dv_carpriceadj_p75p100', 'stationvisit_avgcarprice_adj', 'const']\n",
    "#Xutil_labels = ['dv_ctb', 'dv_bh', 'dv_rec', 'dv_female', 'dv_age_25to40y', 'dv_age_morethan65y', 'dv_somesecondary', 'dv_somecollege', 'dv_carpriceadj_p75p100', 'stationvisit_avgcarprice_adj', 'const']\n",
    "\n",
    "# car price\n",
    "#Xexpd_labels = ['dv_ctb', 'dv_bh', 'dv_rec', 'dv_female', 'dv_age_25to40y', 'dv_age_morethan65y', 'dv_somesecondary', 'dv_somecollege', 'dv_usageveh_p75p100', 'stationvisit_avgcarprice_adj', 'const']\n",
    "#Xutil_labels = ['dv_ctb', 'dv_bh', 'dv_rec', 'dv_female', 'dv_age_25to40y', 'dv_age_morethan65y', 'dv_somesecondary', 'dv_somecollege', 'dv_usageveh_p75p100', 'stationvisit_avgcarprice_adj', 'const']\n",
    "\n",
    "Xalpha_labels = ['const']\n",
    "Xlsigma_labels = ['treat2']\n",
    "\n",
    "choice = df.loc[:, 'choice'].as_matrix()\n",
    "price = df.loc[:, price_labels].as_matrix()\n",
    "value = np.squeeze(df.loc[:, value_labels].as_matrix())\n",
    "Xexpd = df.loc[:, Xexpd_labels].as_matrix()\n",
    "Xutil = df.loc[:, Xutil_labels].as_matrix()\n",
    "\n",
    "Xalpha = df.loc[:, Xalpha_labels].as_matrix().astype(int)\n",
    "Xlsigma = df.loc[:, Xlsigma_labels].as_matrix()\n",
    "\n",
    "nobs, nchoice = price.shape\n",
    "nobs, nXutil = Xutil.shape\n",
    "\n",
    "nobs, nXalpha = Xalpha.shape\n",
    "nobs, nXlsigma = Xlsigma.shape\n",
    "\n",
    "choiceidx = np.ravel_multi_index((range(nobs), choice-1), (nobs, nchoice))\n",
    "\n",
    "pchoice = price[range(nobs), choice-1]\n",
    "\n",
    "ndraws = 100"
   ]
  },
  {
   "cell_type": "code",
   "execution_count": 6,
   "metadata": {
    "collapsed": false
   },
   "outputs": [],
   "source": [
    "# construct the look-up table to quickly find the actual choice for each individual\n",
    "# i.e. given index (i,r), find index (i,j,r) with j = choice of i\n",
    "ii, rr = np.mgrid[0:nobs, 0:ndraws]\n",
    "jj = np.tile(choice.reshape(nobs,1)-1, (1,ndraws))\n",
    "choice_flat_idx_3D = np.ravel_multi_index((ii, jj, rr), (nobs, nchoice, ndraws))\n"
   ]
  },
  {
   "cell_type": "code",
   "execution_count": 7,
   "metadata": {
    "collapsed": false
   },
   "outputs": [],
   "source": [
    "draws = np.random.normal(0., 1., (nobs, nchoice, ndraws))"
   ]
  },
  {
   "cell_type": "markdown",
   "metadata": {},
   "source": [
    "$u_{ijr} = \\alpha_i p_j + X_i \\beta_j + \\rho_j z_{ir} + \\mu\\epsilon_{ij} = V_{ij} + \\rho_j z_{ir} + \\mu_i\\epsilon_{ij}$\n",
    "\n",
    "$z_{ir}$ is used to capture the correlation in between choices. $\\rho_0 = 0, \\rho_1 = \\rho_2 = \\rho$ if positive correlation and $ \\rho_1 = -\\rho_2 = \\rho$ if negative correlation\n",
    "\n",
    "$P(ijr) = \\frac{\\exp\\left(\\frac{V_{ij} + \\rho_j z_{ir}}{\\mu_i}\\right)}{\\sum_k \\exp\\left(\\frac{V_{ik} + \\rho_k z_{ir}}{\\mu_i}\\right)}$\n",
    "\n",
    "$P(ij) = \\frac{1}{R} \\sum_r \\frac{\\exp\\left(\\frac{V_{ij} + \\rho_j z_{ir}}{\\mu_i}\\right)}{\\sum_k \\exp\\left(\\frac{V_{ik} + \\rho_k z_{ir}}{\\mu_i}\\right)} =  \\frac{1}{R} \\exp\\left(\\frac{V_{ij}}{\\mu_i}\\right) \\sum_r \\frac{\\exp\\left(\\frac{\\rho_j z_{ir}}{\\mu_i}\\right)}{\\sum_k \\exp\\left(\\frac{V_{ik} + \\rho_k z_{ir}}{\\mu_i}\\right)}$\n",
    "\n",
    "$\\ln P(ij) = -\\ln R + \\frac{V_{ij}}{\\mu_i} + \\ln \\left(\\ \\sum_r \\frac{\\exp\\left(\\frac{\\rho_j z_{ir}}{\\mu_i}\\right)}{\\sum_k \\exp\\left(\\frac{V_{ik} + \\rho_k z_{ir}}{\\mu_i}\\right)} \\right)$"
   ]
  },
  {
   "cell_type": "code",
   "execution_count": 8,
   "metadata": {
    "collapsed": false
   },
   "outputs": [],
   "source": [
    "floatX = 'float64'\n",
    "\n",
    "theta0 = np.zeros(nXalpha + nXlsigma + (nchoice-1)*nXutil)\n",
    "theta0[0] = -20\n",
    "\n",
    "def getparams(theta):\n",
    "    offset = 0\n",
    "    gammaalpha = theta[offset:offset+nXalpha].reshape((nXalpha, 1))\n",
    "    \n",
    "    offset += nXalpha\n",
    "    gammalsigma = theta[offset:offset+nXlsigma].reshape((nXlsigma, 1))\n",
    "\n",
    "    offset += nXlsigma\n",
    "    betautil = theta[offset:offset+(nchoice-1)*nXutil].reshape((nXutil, nchoice-1))\n",
    "    \n",
    "    return gammaalpha, gammalsigma, betautil\n",
    "\n",
    "theta = T.dvector('theta')\n",
    "gammaalpha, gammalsigma, betautil = getparams(theta)\n",
    "\n",
    "priceT = theano.shared(price.astype(floatX), name='price')\n",
    "pchoiceT = theano.shared(pchoice.astype(floatX), name='pchoice')\n",
    "XutilT = theano.shared(Xutil.astype(floatX), name='Xutil')\n",
    "XalphaT = theano.shared(Xalpha.astype(floatX), name='Xalpha')\n",
    "XlsigmaT = theano.shared(Xlsigma.astype(floatX), name='Xlsigma')\n",
    "drawsT = theano.shared(draws, name = 'draws')\n",
    "\n",
    "sigma = T.exp(T.dot(XlsigmaT, gammalsigma))\n",
    "alpha = T.dot(Xalpha, gammaalpha)\n",
    "\n",
    "util = alpha*priceT + T.concatenate([T.zeros((nobs, 1), dtype=floatX), T.dot(XutilT, betautil)], axis=1)\n",
    "util_noise = sigma.dimshuffle(0,1,'x')*drawsT\n",
    "util2 = util.dimshuffle((0,1,'x')) + util_noise - util_noise.flatten()[choice_flat_idx_3D].reshape((nobs,1,ndraws))\n",
    "nlogl = nobs*np.log(ndraws) - T.log(T.sum(1/T.sum(T.exp(util2), axis=1), axis = 1)).sum() - (util.flatten()[choiceidx].flatten()).sum()"
   ]
  },
  {
   "cell_type": "code",
   "execution_count": 9,
   "metadata": {
    "collapsed": false
   },
   "outputs": [
    {
     "data": {
      "text/plain": [
       "array(7654.2070630564995)"
      ]
     },
     "execution_count": 9,
     "metadata": {},
     "output_type": "execute_result"
    }
   ],
   "source": [
    "theano.function([theta], outputs = nlogl)(theta0)"
   ]
  },
  {
   "cell_type": "code",
   "execution_count": 10,
   "metadata": {
    "collapsed": false
   },
   "outputs": [],
   "source": [
    "def buildfunc(theta, nloglf):\n",
    "    return (theano.function([theta], outputs = nloglf),\n",
    "        theano.function([theta], outputs = T.grad(nloglf, [theta])),\n",
    "        theano.function([theta], outputs = theano.gradient.hessian(nloglf, [theta])))\n",
    "\n",
    "def buildeval(theta, nloglf):\n",
    "    f, grad, hess = buildfunc(theta, nloglf)\n",
    "    \n",
    "    def eval_f(thetavalue):\n",
    "        return f(thetavalue)\n",
    "\n",
    "    def eval_grad(thetavalue):\n",
    "        return np.squeeze(grad(thetavalue))\n",
    "\n",
    "    def eval_hess(thetavalue):\n",
    "        return np.squeeze(hess(thetavalue))\n",
    "\n",
    "    return eval_f, eval_grad, eval_hess\n",
    "\n",
    "eval_f, eval_grad, eval_hess = buildeval(theta, nlogl)"
   ]
  },
  {
   "cell_type": "code",
   "execution_count": 11,
   "metadata": {
    "collapsed": false
   },
   "outputs": [],
   "source": [
    "#eval_hess(theta0)"
   ]
  },
  {
   "cell_type": "code",
   "execution_count": 12,
   "metadata": {
    "collapsed": false
   },
   "outputs": [],
   "source": [
    "pyipopt.set_loglevel(1)\n",
    "thetahat , _, _, _, _, fval = pyipopt.fmin_unconstrained(\n",
    "    eval_f,\n",
    "    theta0,\n",
    "    fprime=eval_grad,\n",
    "    fhess=eval_hess,\n",
    "    )\n"
   ]
  },
  {
   "cell_type": "code",
   "execution_count": 13,
   "metadata": {
    "collapsed": false
   },
   "outputs": [
    {
     "name": "stdout",
     "output_type": "stream",
     "text": [
      "------------------------------------------------------------\n",
      " \n",
      "*** alpha equation\n",
      "                         const   -22.919     1.446   -15.855\n",
      "------------------------------------------------------------\n",
      " \n",
      "*** ln(sigma) equation\n",
      "                         const    -1.729     1.068    -1.619\n",
      "                        treat2   -23.721308409.821    -0.000\n",
      "------------------------------------------------------------\n",
      " \n",
      "*** Discrete choice equation\n",
      "-------- choice 1 ------------------------------------------\n",
      "                        dv_ctb    -0.493     0.163    -3.033\n",
      "                         dv_bh    -0.783     0.127    -6.171\n",
      "                        dv_rec    -1.193     0.158    -7.567\n",
      "                     dv_female    -0.138     0.112    -1.237\n",
      "                dv_age_25to40y    -0.094     0.106    -0.886\n",
      "            dv_age_morethan65y     0.519     0.201     2.579\n",
      "              dv_somesecondary    -0.071     0.259    -0.275\n",
      "                dv_somecollege     0.075     0.251     0.299\n",
      "        dv_carpriceadj_p75p100     0.381     0.112     3.406\n",
      "           dv_usageveh_p75p100     0.235     0.113     2.088\n",
      "  stationvisit_avgcarprice_adj    -0.073     0.022    -3.254\n",
      "                         const     0.413     0.689     0.600\n",
      "-------- choice 2 ------------------------------------------\n",
      "                        dv_ctb    -0.051     0.074    -0.680\n",
      "                         dv_bh    -1.351     0.101   -13.364\n",
      "                        dv_rec    -0.920     0.115    -8.010\n",
      "                     dv_female    -0.283     0.061    -4.674\n",
      "                dv_age_25to40y     0.097     0.057     1.720\n",
      "            dv_age_morethan65y    -0.073     0.135    -0.542\n",
      "              dv_somesecondary    -0.252     0.136    -1.853\n",
      "                dv_somecollege    -0.333     0.133    -2.495\n",
      "        dv_carpriceadj_p75p100    -0.161     0.067    -2.413\n",
      "           dv_usageveh_p75p100    -0.073     0.066    -1.106\n",
      "  stationvisit_avgcarprice_adj    -0.089     0.012    -7.550\n",
      "                         const     3.001     0.361     8.318\n",
      "------------------------------------------------------------\n"
     ]
    }
   ],
   "source": [
    "covhat = np.linalg.inv(eval_hess(thetahat))\n",
    "se = np.sqrt(np.diagonal(covhat))\n",
    "t = thetahat/se\n",
    "\n",
    "gammaalphahat, gammalsigmahat, betautilhat = getparams(thetahat)\n",
    "gammaalphase, gammalsigmase, betautilse = getparams(se)\n",
    "gammaalphat, gammalsigmat, betautilt = getparams(t)\n",
    "\n",
    "formatstr = '%30s%10.3f%10.3f%10.3f'\n",
    "\n",
    "print '-'*60\n",
    "\n",
    "print ' \\n*** alpha equation'\n",
    "for i in range(nXalpha):\n",
    "    print formatstr % (Xalpha_labels[i], gammaalphahat[i], gammaalphase[i], gammaalphat[i])\n",
    "print '-'*60\n",
    "\n",
    "print ' \\n*** ln(sigma) equation'\n",
    "for i in range(nXlsigma):\n",
    "    print formatstr % (Xlsigma_labels[i], gammalsigmahat[i], gammalsigmase[i], gammalsigmat[i])\n",
    "print '-'*60\n",
    "\n",
    "print ' \\n*** Discrete choice equation'\n",
    "for j in range(nchoice-1):\n",
    "    print '-------- choice', j+1, '------------------------------------------'\n",
    "    for i in range(nXutil):\n",
    "        print formatstr % (Xutil_labels[i], betautilhat[i][j], betautilse[i][j], betautilt[i][j])\n",
    "print '-'*60\n"
   ]
  }
 ],
 "metadata": {
  "anaconda-cloud": {},
  "git": {
   "suppress_outputs": true
  },
  "kernelspec": {
   "display_name": "Python [default]",
   "language": "python",
   "name": "python2"
  },
  "language_info": {
   "codemirror_mode": {
    "name": "ipython",
    "version": 2
   },
   "file_extension": ".py",
   "mimetype": "text/x-python",
   "name": "python",
   "nbconvert_exporter": "python",
   "pygments_lexer": "ipython2",
   "version": "2.7.12"
  }
 },
 "nbformat": 4,
 "nbformat_minor": 0
}
