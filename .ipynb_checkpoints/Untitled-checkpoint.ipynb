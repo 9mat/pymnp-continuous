{
 "cells": [
  {
   "cell_type": "code",
   "execution_count": 1,
   "metadata": {
    "collapsed": false
   },
   "outputs": [
    {
     "name": "stderr",
     "output_type": "stream",
     "text": [
      "/home/dhlong/anaconda2/envs/research/lib/python2.7/site-packages/matplotlib/font_manager.py:273: UserWarning: Matplotlib is building the font cache using fc-list. This may take a moment.\n",
      "  warnings.warn('Matplotlib is building the font cache using fc-list. This may take a moment.')\n"
     ]
    }
   ],
   "source": [
    "import pandas as pd\n",
    "import numpy as np\n",
    "import pymc as mc"
   ]
  },
  {
   "cell_type": "code",
   "execution_count": 123,
   "metadata": {
    "collapsed": false
   },
   "outputs": [],
   "source": [
    "N=100\n",
    "mutheta = 0\n",
    "sigmatheta = 1\n",
    "p = np.random.random((2,N))*0.3+0.2\n",
    "z = np.random.lognormal(0,0.1, (2,N))\n",
    "pp = p*z\n",
    "theta = np.random.lognormal(mutheta, sigmatheta, (N,))\n",
    "elas = 0.6\n",
    "expend = (1-elas)*pp + elas*theta\n",
    "value = expend/(elas-1)\n",
    "logit = np.exp(value)\n",
    "logit /= logit.sum(axis = 0)\n",
    "choice = (np.random.random((N,)) < logit[0]).astype(int)\n",
    "obsexpend = np.zeros(expend.shape)*np.nan\n",
    "obsexpend[choice, range(N)] = expend[choice, range(N)]"
   ]
  },
  {
   "cell_type": "code",
   "execution_count": 151,
   "metadata": {
    "collapsed": false
   },
   "outputs": [],
   "source": [
    "mcelas = mc.Lognormal('elas',0.1, 0.0001)\n",
    "mcmutheta = mc.Normal('mutheata',0, 0.0001)\n",
    "mctauz = mc.Lognormal('tauz',0, 0.0001)\n",
    "mctautheta = mc.Lognormal('precisiontheta',0, 0.001)"
   ]
  },
  {
   "cell_type": "code",
   "execution_count": 152,
   "metadata": {
    "collapsed": false
   },
   "outputs": [],
   "source": [
    "mctheta = mc.Lognormal('theta', mcmutheta, mctautheta)"
   ]
  },
  {
   "cell_type": "code",
   "execution_count": 150,
   "metadata": {
    "collapsed": false
   },
   "outputs": [],
   "source": [
    "mcexpend0 = mc.Lognormal('expend0', \n",
    "                         mc.Lambda('meanexpend',lambda e=mcelas,mt=mutheta: (1-e)*mt), \n",
    "                         1, observed=True, value=obsexpend)"
   ]
  }
 ],
 "metadata": {
  "anaconda-cloud": {},
  "kernelspec": {
   "display_name": "Python [conda env:research]",
   "language": "python",
   "name": "conda-env-research-py"
  },
  "language_info": {
   "codemirror_mode": {
    "name": "ipython",
    "version": 2
   },
   "file_extension": ".py",
   "mimetype": "text/x-python",
   "name": "python",
   "nbconvert_exporter": "python",
   "pygments_lexer": "ipython2",
   "version": "2.7.12"
  }
 },
 "nbformat": 4,
 "nbformat_minor": 2
}
