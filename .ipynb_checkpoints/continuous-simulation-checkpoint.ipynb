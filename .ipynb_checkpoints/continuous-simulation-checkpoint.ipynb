{
 "cells": [
  {
   "cell_type": "code",
   "execution_count": 1,
   "metadata": {
    "collapsed": false
   },
   "outputs": [],
   "source": [
    "import tensorflow as tf\n",
    "import pyipopt\n"
   ]
  },
  {
   "cell_type": "code",
   "execution_count": 2,
   "metadata": {
    "collapsed": false
   },
   "outputs": [],
   "source": [
    "import numpy as np\n",
    "\n",
    "#OLS\n",
    "alpha = 1.0\n",
    "beta = 2.0\n",
    "sigma = 0.5\n",
    "N = 100000\n",
    "x = np.random.rand(N,)*0.3+0.1\n",
    "y = alpha + beta*x + np.random.normal(size=x.shape)*sigma"
   ]
  },
  {
   "cell_type": "code",
   "execution_count": 3,
   "metadata": {
    "collapsed": false
   },
   "outputs": [
    {
     "name": "stdout",
     "output_type": "stream",
     "text": [
      "[ 1.00030949  1.99688941 -0.69115154]\n"
     ]
    }
   ],
   "source": [
    "import theano\n",
    "import theano.tensor as T\n",
    "theta = T.dvector('theta')\n",
    "alpha = theta[0]\n",
    "beta = theta[1]\n",
    "lsigma = theta[2]\n",
    "\n",
    "err = y - alpha - beta*x\n",
    "ll = T.sum(err*err)/(2*T.exp(2*lsigma)) + len(y)*lsigma\n",
    "grad = T.grad(ll, theta)\n",
    "eval_f = theano.function([theta], ll)\n",
    "\n",
    "eval_grad = theano.function([theta], grad)\n",
    "pyipopt.set_loglevel(1)\n",
    "thetahat , _, _, _, _, _ = pyipopt.fmin_unconstrained(\n",
    "    eval_f,\n",
    "    np.array([0.0, 0.0, np.log(0.1)]),\n",
    "    fprime=eval_grad,\n",
    "    fhess=None,\n",
    "    )\n",
    "\n",
    "print thetahat\n"
   ]
  },
  {
   "cell_type": "code",
   "execution_count": 4,
   "metadata": {
    "collapsed": false
   },
   "outputs": [],
   "source": [
    "import numpy as np\n",
    "\n",
    "# simulate data\n",
    "N=10000\n",
    "alpha0 = 0.0\n",
    "sigma0 = 1.0\n",
    "elas0 = 0.6\n",
    "mu0 = 1.0\n",
    "\n",
    "p = np.random.random((2,N))*0.3+0.2\n",
    "expend = np.exp((1-elas0)*np.log(p) + alpha0 + np.random.normal(0.0, sigma0, (N,)))\n",
    "value = expend/(elas0-1) + mu0*np.random.gumbel(size=expend.shape)\n",
    "choice = np.argmax(value, axis = 0)"
   ]
  },
  {
   "cell_type": "code",
   "execution_count": 5,
   "metadata": {
    "collapsed": true
   },
   "outputs": [],
   "source": [
    "# simulate data with convenience cost\n",
    "N=10000\n",
    "alpha0 = 0.0\n",
    "sigma0 = 1.0\n",
    "elas0 = 0.6\n",
    "mu0 = 1.0\n",
    "\n",
    "convenience_expend = 2\n",
    "convenience_cost = 0.5\n",
    "pconvenience = 0.5\n",
    "\n",
    "p = np.random.random((2,N))*0.7+0.7\n",
    "expend = np.exp((1-elas0)*np.log(p) + alpha0 + np.random.normal(0.0, sigma0, (N,)))\n",
    "convenience_cost_random = (np.random.random(choice.shape) < pconvenience)*convenience_cost\n",
    "optimal_value = expend/(elas0-1) \n",
    "convenience_value = expend**(1/elas0)*convenience_expend**(1-1/elas0)*elas0/(elas0-1) - (1-convenience_cost_random)*convenience_expend\n",
    "expend[optimal_value < convenience_value] = convenience_expend\n",
    "value = np.maximum(optimal_value, convenience_value) + mu0*np.random.gumbel(size=expend.shape)\n",
    "choice = np.argmax(value, axis = 0)"
   ]
  },
  {
   "cell_type": "code",
   "execution_count": 6,
   "metadata": {
    "collapsed": false
   },
   "outputs": [
    {
     "name": "stderr",
     "output_type": "stream",
     "text": [
      "/home/dhlong/anaconda2/envs/research/lib/python2.7/site-packages/matplotlib/font_manager.py:273: UserWarning: Matplotlib is building the font cache using fc-list. This may take a moment.\n",
      "  warnings.warn('Matplotlib is building the font cache using fc-list. This may take a moment.')\n"
     ]
    },
    {
     "data": {
      "text/plain": [
       "(array([ 1242.,   639.,   401.,   239.,  1757.,    86.,    70.,   106.,\n",
       "           88.,    71.]),\n",
       " array([ 0.01624237,  0.51158531,  1.00692825,  1.50227119,  1.99761413,\n",
       "         2.49295707,  2.98830001,  3.48364296,  3.9789859 ,  4.47432884,\n",
       "         4.96967178]),\n",
       " <a list of 10 Patch objects>)"
      ]
     },
     "execution_count": 6,
     "metadata": {},
     "output_type": "execute_result"
    },
    {
     "data": {
      "image/png": "[encoded data removed]",
      "text/plain": [
       "<matplotlib.figure.Figure at 0x7f0da6ca7650>"
      ]
     },
     "metadata": {},
     "output_type": "display_data"
    }
   ],
   "source": [
    "import matplotlib.pyplot as plt\n",
    "%matplotlib inline\n",
    "plt.hist(expend[0][(expend[0]<5)&(choice==0)])"
   ]
  },
  {
   "cell_type": "code",
   "execution_count": 7,
   "metadata": {
    "collapsed": false
   },
   "outputs": [],
   "source": [
    "dvchoice = (choice == np.array([0,1]).reshape(2,1))\n",
    "expendchoice = expend[choice, range(N)]\n",
    "pchoice = p[choice, range(N)]\n",
    "convenience, = np.where(np.abs(expendchoice-convenience_expend) < 1e-4)\n",
    "inconvenience, = np.where(np.abs(expendchoice-convenience_expend) >= 1e-4)"
   ]
  },
  {
   "cell_type": "code",
   "execution_count": 8,
   "metadata": {
    "collapsed": false
   },
   "outputs": [
    {
     "data": {
      "text/plain": [
       "(3185,)"
      ]
     },
     "execution_count": 8,
     "metadata": {},
     "output_type": "execute_result"
    }
   ],
   "source": [
    "convenience.shape"
   ]
  },
  {
   "cell_type": "code",
   "execution_count": 9,
   "metadata": {
    "collapsed": false
   },
   "outputs": [],
   "source": [
    "import theano\n",
    "import theano.tensor as T\n",
    "\n",
    "theta = T.dvector('theta')\n",
    "elas = T.exp(theta[0])\n",
    "alpha = theta[1]\n",
    "lsigma = theta[2]\n",
    "sigma = T.exp(lsigma)\n",
    "cost = T.nnet.sigmoid(theta[3])\n",
    "pcost = T.nnet.sigmoid(theta[4])"
   ]
  },
  {
   "cell_type": "code",
   "execution_count": 10,
   "metadata": {
    "collapsed": true
   },
   "outputs": [],
   "source": [
    "def logsumexp(x,axis):\n",
    "    maxx = T.max(x,axis=axis,keepdims=True)\n",
    "    return maxx.squeeze() + T.log(T.sum(T.exp(x-maxx),axis=axis))\n",
    "\n",
    "def logsumexp2(x,y):\n",
    "    m = T.maximum(x,y)\n",
    "    return m + T.log(T.exp(x-m) + T.exp(y-m))\n"
   ]
  },
  {
   "cell_type": "code",
   "execution_count": 11,
   "metadata": {
    "collapsed": false
   },
   "outputs": [],
   "source": [
    "eta = np.log(expendchoice) - (1-elas)*np.log(pchoice) - alpha\n",
    "lexpend = np.log(expendchoice) + (1-elas)*(np.log(p)-np.log(pchoice))\n",
    "utilquant = T.exp(lexpend)/(elas-1)\n",
    "utilconve = (T.exp((lexpend-np.log(convenience_expend))/elas)/(1-1/elas) - (1-cost))*convenience_expend\n",
    "\n",
    "dvchoicef = dvchoice.astype(np.float64)\n",
    "util0 = utilquant\n",
    "utilb = T.maximum(utilquant,utilconve)\n",
    "lprobchoice0 = T.sum(util0*dvchoicef,axis=0) - logsumexp(util0,0)\n",
    "lprobchoiceb = T.sum(utilb*dvchoicef,axis=0) - logsumexp(utilb,0)\n",
    "\n",
    "utilconvechoice = (((expendchoice/convenience_expend)**(1/elas))/(1-1/elas) - (1-cost))*convenience_expend\n",
    "utilquantchoice = expendchoice/(elas-1)\n",
    "softplus = T.nnet.softplus((utilconvechoice-utilquantchoice)*50)\n",
    "\n",
    "lprobchoice = logsumexp2(lprobchoice0 + T.log(1.0-pcost), lprobchoiceb + T.log(pcost) - softplus)\n",
    "\n",
    "lpdfeta = eta*eta/(2*T.exp(2*lsigma)) + lsigma + np.log(2*np.pi)/2\n",
    "\n",
    "nlogl = -lprobchoice[inconvenience].sum() + lpdfeta[inconvenience].sum()\n",
    "nlogl2 = -lprobchoice0.sum() + lpdfeta.sum()\n"
   ]
  },
  {
   "cell_type": "code",
   "execution_count": 12,
   "metadata": {
    "collapsed": false
   },
   "outputs": [],
   "source": [
    "omegal = 1e-3\n",
    "omegah = elas**(1.0+1.0/(elas-1))\n",
    "\n",
    "for i in range(7):\n",
    "    omegal = (1-elas)*(omegal**(1/elas) - 1 + cost)/(omegal**(1/elas-1) - 1)\n",
    "    omegal = T.maximum(omegal,1e-4)\n",
    "    omegah = (1-elas)*(omegah**(1/elas) - 1 + cost)/(omegah**(1/elas-1) - 1)\n"
   ]
  },
  {
   "cell_type": "code",
   "execution_count": 13,
   "metadata": {
    "collapsed": true
   },
   "outputs": [],
   "source": [
    "# https://pomax.github.io/bezierinfo/legendre-gauss.html\n",
    "weight = np.array([0.2491470458, 0.2491470458, 0.2334925365, 0.2334925365, \n",
    "                   0.2031674267, 0.2031674267, 0.1600783285, 0.1600783285, \n",
    "                   0.106939326, 0.106939326, 0.0471753364, 0.0471753364]).reshape(-1,1,1)\n",
    "abscissa = np.array([-0.1252334085, 0.1252334085, -0.367831499, 0.367831499, \n",
    "                     -0.5873179543, 0.5873179543, -0.7699026742, 0.7699026742, \n",
    "                     -0.9041172564, 0.9041172564, -0.9815606342, 0.9815606342]).reshape(-1,1,1)"
   ]
  },
  {
   "cell_type": "code",
   "execution_count": 26,
   "metadata": {
    "collapsed": false
   },
   "outputs": [],
   "source": [
    "omega = (abscissa*(omegah-omegal)/2.0 + (omegah+omegal)/2.0)\n",
    "omg_eta = T.log(omega) + eta\n",
    "omg_lexpend = T.log(omega) + lexpend\n",
    "omg_utilquant = T.exp(omg_lexpend)/(elas-1)\n",
    "\n",
    "omg_utilconve = (T.exp((omg_lexpend-np.log(convenience_expend))/elas)/(1-1/elas) - (1-cost))*convenience_expend\n",
    "\n",
    "omg_util = T.maximum(omg_utilquant,omg_utilconve)\n",
    "omg_lprobchoice = T.sum(omg_util*dvchoicef,axis=1) - logsumexp(omg_util,1)\n",
    "omg_lpdfeta = (omg_eta*omg_eta/(2*T.exp(2*lsigma)) + lsigma + np.log(2*np.pi)/2).squeeze()\n",
    "\n",
    "ll = omg_lprobchoice - omg_lpdfeta.squeeze() + np.log(weight[:,:,0]) - T.log(omega)[:,:,0]\n",
    "ll2 = logsumexp(ll,0) + T.log((omegah-omegal)/2).squeeze() + T.log(pcost)\n",
    "lll = -ll2[convenience].sum()"
   ]
  },
  {
   "cell_type": "code",
   "execution_count": 28,
   "metadata": {
    "collapsed": false
   },
   "outputs": [],
   "source": [
    "nlogl_total = nlogl + lll\n",
    "grad = T.grad(nlogl_total, theta)"
   ]
  },
  {
   "cell_type": "code",
   "execution_count": 43,
   "metadata": {
    "collapsed": false
   },
   "outputs": [],
   "source": [
    "theta0 = [np.log(0.1), 0.0, 0.0, 0.0, 0.0]"
   ]
  },
  {
   "cell_type": "code",
   "execution_count": 44,
   "metadata": {
    "collapsed": false
   },
   "outputs": [
    {
     "data": {
      "text/plain": [
       "(12, 1, 1)"
      ]
     },
     "execution_count": 44,
     "metadata": {},
     "output_type": "execute_result"
    }
   ],
   "source": [
    "theano.function([theta], omega)(theta0).shape"
   ]
  },
  {
   "cell_type": "code",
   "execution_count": 31,
   "metadata": {
    "collapsed": false
   },
   "outputs": [
    {
     "data": {
      "text/plain": [
       "array(5807.309184193195)"
      ]
     },
     "execution_count": 31,
     "metadata": {},
     "output_type": "execute_result"
    }
   ],
   "source": [
    "theano.function([theta], lll)(theta0)"
   ]
  },
  {
   "cell_type": "code",
   "execution_count": 32,
   "metadata": {
    "collapsed": false
   },
   "outputs": [],
   "source": [
    "eval_f = theano.function([theta], nlogl_total)\n",
    "eval_grad = theano.function([theta], grad)"
   ]
  },
  {
   "cell_type": "code",
   "execution_count": 45,
   "metadata": {
    "collapsed": false
   },
   "outputs": [
    {
     "name": "stdout",
     "output_type": "stream",
     "text": [
      "[ 0.57395374  1.00505255  1.00689525  1.05671541  1.01135298]\n",
      "23241.3928256\n"
     ]
    }
   ],
   "source": [
    "pyipopt.set_loglevel(1)\n",
    "thetahat , _, _, _, _, _ = pyipopt.fmin_unconstrained(\n",
    "    eval_f,\n",
    "    np.array(theta0),\n",
    "    fprime=eval_grad,\n",
    "    fhess=None,\n",
    "    )\n",
    "\n",
    "lelashat = thetahat[0]\n",
    "print np.exp(thetahat)\n",
    "print eval_f(thetahat)"
   ]
  },
  {
   "cell_type": "code",
   "execution_count": 46,
   "metadata": {
    "collapsed": false
   },
   "outputs": [
    {
     "data": {
      "text/plain": [
       "array([-0.55520647,  0.00503983,  0.00687158,  0.05516543,  0.01128902])"
      ]
     },
     "execution_count": 46,
     "metadata": {},
     "output_type": "execute_result"
    }
   ],
   "source": [
    "thetahat"
   ]
  },
  {
   "cell_type": "code",
   "execution_count": 47,
   "metadata": {
    "collapsed": false
   },
   "outputs": [
    {
     "data": {
      "text/plain": [
       "array(0.5739537445048357)"
      ]
     },
     "execution_count": 47,
     "metadata": {},
     "output_type": "execute_result"
    }
   ],
   "source": [
    "theano.function([theta],elas)(thetahat)"
   ]
  },
  {
   "cell_type": "code",
   "execution_count": 36,
   "metadata": {
    "collapsed": false
   },
   "outputs": [
    {
     "data": {
      "text/plain": [
       "0.5967359050445104"
      ]
     },
     "execution_count": 36,
     "metadata": {},
     "output_type": "execute_result"
    }
   ],
   "source": [
    "4022.0/(2718+4022)"
   ]
  }
 ],
 "metadata": {
  "anaconda-cloud": {},
  "kernelspec": {
   "display_name": "Python [conda env:research]",
   "language": "python",
   "name": "conda-env-research-py"
  },
  "language_info": {
   "codemirror_mode": {
    "name": "ipython",
    "version": 2
   },
   "file_extension": ".py",
   "mimetype": "text/x-python",
   "name": "python",
   "nbconvert_exporter": "python",
   "pygments_lexer": "ipython2",
   "version": "2.7.12"
  }
 },
 "nbformat": 4,
 "nbformat_minor": 2
}
