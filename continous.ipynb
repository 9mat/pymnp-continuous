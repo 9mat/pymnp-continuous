{
 "cells": [
  {
   "cell_type": "code",
   "execution_count": 1,
   "metadata": {
    "collapsed": false
   },
   "outputs": [],
   "source": [
    "import pandas as pd\n",
    "import numpy as np\n",
    "import theano.tensor as T\n",
    "import theano\n",
    "import theano.gradient\n",
    "import pyipopt"
   ]
  },
  {
   "cell_type": "code",
   "execution_count": 2,
   "metadata": {
    "collapsed": false
   },
   "outputs": [],
   "source": [
    "inputfile = './data_new_volume.csv'\n",
    "df = pd.read_csv(inputfile)\n",
    "df['const'] = 1\n",
    "\n",
    "df['pgmidgrade_km_adj'].fillna(value=10000, inplace=True)\n",
    "\n",
    "df = df[df['treattype'] < 3]\n",
    "for elem in df['treattype'].unique():\n",
    "    df['treat' + str(elem)] = df['treattype'] == elem\n",
    "\n",
    "for elem in df['choice'].unique():\n",
    "    df['choice' + str(elem)] = df['choice'] == elem\n",
    "\n",
    "df['treat1_topusage'] = df['treat1']*df['dv_usageveh_p75p100']\n",
    "df['treat2_topusage'] = df['treat2']*df['dv_usageveh_p75p100']\n",
    "\n",
    "df['treat1_college'] = df['treat1']*df['dv_somecollege']\n",
    "df['treat2_college'] = df['treat2']*df['dv_somecollege']\n",
    "\n",
    "df.head()"
   ]
  },
  {
   "cell_type": "code",
   "execution_count": 3,
   "metadata": {
    "collapsed": false
   },
   "outputs": [],
   "source": [
    "#df = df[ df['dv_carpriceadj_p75p100'] == 1]\n",
    "#df = df[ df['dv_usageveh_p75p100'] == 0]\n",
    "df.head()"
   ]
  },
  {
   "cell_type": "code",
   "execution_count": 4,
   "metadata": {
    "collapsed": true
   },
   "outputs": [],
   "source": [
    "price_labels = ['pg_km_adj', 'pgmidgrade_km_adj', 'pe_km_adj']\n",
    "value_labels = ['value_total']\n",
    "\n",
    "# all\n",
    "Xexpd_labels = ['dv_ctb', 'dv_bh', 'dv_rec', 'dv_female', 'dv_age_25to40y', 'dv_age_morethan65y', 'dv_somesecondary', 'dv_somecollege', 'dv_carpriceadj_p75p100', 'dv_usageveh_p75p100', 'stationvisit_avgcarprice_adj', 'const']\n",
    "Xutil_labels = ['dv_ctb', 'dv_bh', 'dv_rec', 'dv_female', 'dv_age_25to40y', 'dv_age_morethan65y', 'dv_somesecondary', 'dv_somecollege', 'dv_carpriceadj_p75p100', 'dv_usageveh_p75p100', 'stationvisit_avgcarprice_adj', 'const']\n",
    "\n",
    "# usage\n",
    "#Xexpd_labels = ['choice2', 'choice3', 'dv_ctb', 'dv_bh', 'dv_rec', 'dv_female', 'dv_age_25to40y', 'dv_age_morethan65y', 'dv_somesecondary', 'dv_somecollege', 'dv_carpriceadj_p75p100', 'stationvisit_avgcarprice_adj', 'const']\n",
    "#Xutil_labels = ['dv_ctb', 'dv_bh', 'dv_rec', 'dv_female', 'dv_age_25to40y', 'dv_age_morethan65y', 'dv_somesecondary', 'dv_somecollege', 'dv_carpriceadj_p75p100', 'stationvisit_avgcarprice_adj', 'const']\n",
    "\n",
    "# car price\n",
    "#Xexpd_labels = ['dv_ctb', 'dv_bh', 'dv_rec', 'dv_female', 'dv_age_25to40y', 'dv_age_morethan65y', 'dv_somesecondary', 'dv_somecollege', 'dv_usageveh_p75p100', 'stationvisit_avgcarprice_adj', 'const']\n",
    "#Xutil_labels = ['dv_ctb', 'dv_bh', 'dv_rec', 'dv_female', 'dv_age_25to40y', 'dv_age_morethan65y', 'dv_somesecondary', 'dv_somecollege', 'dv_usageveh_p75p100', 'stationvisit_avgcarprice_adj', 'const']\n",
    "\n",
    "Xlelas_labels = ['const', 'dv_carpriceadj_p75p100', 'dv_somecollege', 'dv_usageveh_p75p100', 'treat1', 'treat2']\n",
    "Xlsigma_labels = ['const']\n",
    "Xlmu_labels = ['const']"
   ]
  },
  {
   "cell_type": "code",
   "execution_count": 5,
   "metadata": {
    "collapsed": true
   },
   "outputs": [],
   "source": [
    "floatX = 'float64'"
   ]
  },
  {
   "cell_type": "code",
   "execution_count": 6,
   "metadata": {
    "collapsed": false
   },
   "outputs": [],
   "source": [
    "choice = df.loc[:, 'choice'].as_matrix() - 1\n",
    "price  = df.loc[:, price_labels].as_matrix().astype(floatX)\n",
    "value  = df.loc[:, value_labels].as_matrix().astype(floatX)\n",
    "Xexpd  = df.loc[:, Xexpd_labels].as_matrix().astype(floatX)\n",
    "Xutil  = df.loc[:, Xutil_labels].as_matrix().astype(floatX)\n",
    "\n",
    "Xlelas = df.loc[:, Xlelas_labels].as_matrix().astype(floatX)\n",
    "Xlsigma = df.loc[:, Xlsigma_labels].as_matrix().astype(floatX)\n",
    "Xlmu   = df.loc[:, Xlmu_labels].as_matrix().astype(floatX)"
   ]
  },
  {
   "cell_type": "code",
   "execution_count": 7,
   "metadata": {
    "collapsed": true
   },
   "outputs": [],
   "source": [
    "nobs, nchoice = price.shape\n",
    "nobs, nXexpd = Xexpd.shape\n",
    "nobs, nXutil = Xutil.shape\n",
    "\n",
    "nobs, nXlelas = Xlelas.shape\n",
    "nobs, nXlsigma = Xlsigma.shape\n",
    "nobs, nXlmu = Xlmu.shape"
   ]
  },
  {
   "cell_type": "code",
   "execution_count": 115,
   "metadata": {
    "collapsed": false
   },
   "outputs": [],
   "source": [
    "chosenprice = price[range(nobs), choice].reshape(nobs,1)\n",
    "dvchoice = (choice == np.arange(nchoice).reshape(nchoice,1)).transpose()\n",
    "convenience_expend = 50.0\n",
    "dvconvenience = np.abs(value.squeeze()-convenience_expend) < 1e-3\n",
    "inconvenience, = np.where(~dvconvenience)"
   ]
  },
  {
   "cell_type": "code",
   "execution_count": 93,
   "metadata": {
    "collapsed": true
   },
   "outputs": [],
   "source": [
    "theta0 = np.zeros(nXlelas + nXlsigma + nXlmu + nXexpd + (nchoice-1)*nXutil)\n",
    "theta0[0] = -0.1"
   ]
  },
  {
   "cell_type": "code",
   "execution_count": 118,
   "metadata": {
    "collapsed": false
   },
   "outputs": [],
   "source": [
    "def getparams(theta):\n",
    "    offset = 0\n",
    "    gammalelas = theta[offset:offset+nXlelas].reshape((nXlelas, 1))\n",
    "    \n",
    "    offset += nXlelas\n",
    "    gammalsigma = theta[offset:offset+nXlsigma].reshape((nXlsigma, 1))\n",
    "    \n",
    "    offset += nXlsigma\n",
    "    gammalmu = theta[offset:offset+nXlmu].reshape((nXlmu, 1))\n",
    "    \n",
    "    offset += nXlmu\n",
    "    betaexpd = theta[offset:offset+nXexpd].reshape((nXexpd, 1))\n",
    "    \n",
    "    offset += nXexpd\n",
    "    betautil = theta[offset:offset+(nchoice-1)*nXutil].reshape((nXutil, nchoice-1))\n",
    "    \n",
    "    offset += (nchoice-1)*nXutil\n",
    "#     benefit = theta[offset]\n",
    "    \n",
    "    return gammalelas, gammalsigma, gammalmu, betaexpd, betautil, benefit\n",
    "\n",
    "theta = T.dvector('theta')\n",
    "gammalelas, gammalsigma, gammalmu, betaexpd, betautil, benefit = getparams(theta)\n",
    "\n",
    "# priceT = theano.shared(price.astype(floatX), name='price')\n",
    "# pchoiceT = theano.shared(pchoice.astype(floatX), name='pchoice')\n",
    "# XexpdT = theano.shared(Xexpd.astype(floatX), name='Xexpd')\n",
    "# XutilT = theano.shared(Xutil.astype(floatX), name='Xutil')\n",
    "# valueT = theano.shared(value.astype(floatX), name='value')\n",
    "# XlelasT = theano.shared(Xlelas.astype(floatX), name='Xlelas')\n",
    "# XlsigmaT = theano.shared(Xlsigma.astype(floatX), name='Xlsigma')\n",
    "# XlmuT = theano.shared(Xlmu.astype(floatX), name='Xlmu')\n",
    "\n",
    "mu = T.exp(T.dot(Xlmu, gammalmu))\n",
    "elas = T.exp(T.dot(Xlelas, gammalelas))\n",
    "lsigma = T.dot(Xlsigma,gammalsigma)\n",
    "rho = elas - 1\n",
    "\n",
    "omegal = 1e-3\n",
    "omegah = elas**(1.0+1.0/(elas-1))\n",
    "\n",
    "for i in range(7):\n",
    "    omegal = (1-elas)*(omegal**(1/elas) - 1 + benefit)/(omegal**(1/elas-1) - 1)\n",
    "    omegah = (1-elas)*(omegah**(1/elas) - 1 + benefit)/(omegah**(1/elas-1) - 1)\n",
    "\n",
    "eta = np.log(value) + rho*np.log(chosenprice) - T.dot(Xexpd,betaexpd)\n",
    "lexpend = np.log(value) - rho*(np.log(price) - np.log(chosenprice))\n",
    "util = (T.exp(lexpend)/rho + T.concatenate([np.zeros((nobs,1)), T.dot(Xutil, betautil)],axis=1))/mu\n",
    "maxutil = T.max(util,axis=1,keepdims=True)\n",
    "ldenom = maxutil.squeeze() + T.log(T.sum(T.exp(util - maxutil),axis=1))\n",
    "lprobchoice = T.sum(util*dvchoice.astype(floatX),axis=1) - ldenom\n",
    "lpdfeta = eta*eta/(2*T.exp(2*lsigma)) + lsigma + np.log(2*np.pi)/2\n",
    "nlogl = -lprobchoice[inconvenience].sum() + lpdfeta[inconvenience].sum()"
   ]
  },
  {
   "cell_type": "code",
   "execution_count": 119,
   "metadata": {
    "collapsed": false
   },
   "outputs": [],
   "source": [
    "def buildfunc(theta, nloglf):\n",
    "    return (theano.function([theta], nloglf),\n",
    "            theano.function([theta], T.grad(nloglf, theta)),\n",
    "            theano.function([theta], theano.gradient.hessian(nloglf, theta)))\n",
    "\n",
    "eval_f, eval_grad, eval_hess = buildfunc(theta, nlogl)"
   ]
  },
  {
   "cell_type": "code",
   "execution_count": 120,
   "metadata": {
    "collapsed": false
   },
   "outputs": [],
   "source": [
    "eval_hess(theta0)"
   ]
  },
  {
   "cell_type": "code",
   "execution_count": 121,
   "metadata": {
    "collapsed": false
   },
   "outputs": [],
   "source": [
    "pyipopt.set_loglevel(1)\n",
    "thetahat , _, _, _, _, fval = pyipopt.fmin_unconstrained(\n",
    "    eval_f,\n",
    "    theta0,\n",
    "    fprime=eval_grad,\n",
    "    fhess=eval_hess,\n",
    "    )\n"
   ]
  },
  {
   "cell_type": "code",
   "execution_count": 122,
   "metadata": {
    "collapsed": false
   },
   "outputs": [],
   "source": [
    "covhat = np.linalg.inv(eval_hess(thetahat))\n",
    "sehat = np.sqrt(np.diagonal(covhat))\n",
    "t = thetahat/sehat\n",
    "\n",
    "gammalelashat, gammalsigmahat, gammalmuhat, betaexpdhat, betautilhat,_ = getparams(thetahat)\n",
    "gammalelasse, gammalsigmase, gammalmuse, betaexpdse, betautilse,_ = getparams(sehat)\n",
    "gammalelast, gammalsigmat, gammalmut, betaexpdt, betautilt,_ = getparams(t)\n",
    "\n",
    "formatstr = '%30s%10.3f%10.3f%10.3f'\n",
    "\n",
    "print '-'*60\n",
    "\n",
    "print ' \\n*** ln(elas) equation'\n",
    "for i in range(nXlelas):\n",
    "    print formatstr % (Xlelas_labels[i], gammalelashat[i], gammalelasse[i], gammalelast[i])\n",
    "print '-'*60\n",
    "\n",
    "print ' \\n*** ln(sigma) equation'\n",
    "for i in range(nXlsigma):\n",
    "    print formatstr % (Xlsigma_labels[i], gammalsigmahat[i], gammalsigmase[i], gammalsigmat[i])\n",
    "print '-'*60\n",
    "\n",
    "print ' \\n*** ln(mu) equation'\n",
    "for i in range(nXlmu):\n",
    "    print formatstr % (Xlmu_labels[i], gammalmuhat[i], gammalmuse[i], gammalmut[i])\n",
    "print '-'*60\n",
    "\n",
    "print ' \\n*** Expenditure equation'\n",
    "for i in range(nXexpd):\n",
    "    print formatstr % (Xexpd_labels[i], betaexpdhat[i], betaexpdse[i], betaexpdt[i])\n",
    "print '-'*60\n",
    "    \n",
    "print ' \\n*** Discrete choice equation'\n",
    "for j in range(nchoice-1):\n",
    "    print '-------- choice', j+1, '------------------------------------------'\n",
    "    for i in range(nXutil):\n",
    "        print formatstr % (Xutil_labels[i], betautilhat[i][j], betautilse[i][j], betautilt[i][j])\n",
    "print '-'*60\n"
   ]
  }
 ],
 "metadata": {
  "anaconda-cloud": {},
  "git": {
   "suppress_outputs": true
  },
  "kernelspec": {
   "display_name": "Python [conda env:research]",
   "language": "python",
   "name": "conda-env-research-py"
  },
  "language_info": {
   "codemirror_mode": {
    "name": "ipython",
    "version": 2
   },
   "file_extension": ".py",
   "mimetype": "text/x-python",
   "name": "python",
   "nbconvert_exporter": "python",
   "pygments_lexer": "ipython2",
   "version": "2.7.12"
  }
 },
 "nbformat": 4,
 "nbformat_minor": 0
}