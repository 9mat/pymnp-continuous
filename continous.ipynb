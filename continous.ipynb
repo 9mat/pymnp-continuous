{
 "cells": [
  {
   "cell_type": "code",
   "execution_count": 1,
   "metadata": {
    "collapsed": false
   },
   "outputs": [],
   "source": [
    "import pandas as pd\n",
    "import numpy as np\n",
    "import theano.tensor as T\n",
    "import theano\n",
    "import theano.gradient\n",
    "import pyipopt"
   ]
  },
  {
   "cell_type": "code",
   "execution_count": 2,
   "metadata": {
    "collapsed": false
   },
   "outputs": [],
   "source": [
    "inputfile = './data_new_volume.csv'\n",
    "df = pd.read_csv(inputfile)\n",
    "df['const'] = 1\n",
    "\n",
    "df = df.sample(2000)\n",
    "\n",
    "df['pgmidgrade_km_adj'].fillna(value=10000, inplace=True)\n",
    "\n",
    "df = df[df['treattype'] < 3]\n",
    "for elem in df['treattype'].unique():\n",
    "    df['treat' + str(elem)] = df['treattype'] == elem\n",
    "\n",
    "for elem in df['choice'].unique():\n",
    "    df['choice' + str(elem)] = df['choice'] == elem\n",
    "\n",
    "df['treat1_topusage'] = df['treat1']*df['dv_usageveh_p75p100']\n",
    "df['treat2_topusage'] = df['treat2']*df['dv_usageveh_p75p100']\n",
    "\n",
    "df['treat1_college'] = df['treat1']*df['dv_somecollege']\n",
    "df['treat2_college'] = df['treat2']*df['dv_somecollege']\n",
    "\n",
    "df.head()"
   ]
  },
  {
   "cell_type": "code",
   "execution_count": 3,
   "metadata": {
    "collapsed": false
   },
   "outputs": [],
   "source": [
    "#df = df[ df['dv_carpriceadj_p75p100'] == 1]\n",
    "#df = df[ df['dv_usageveh_p75p100'] == 0]\n",
    "df.head()"
   ]
  },
  {
   "cell_type": "code",
   "execution_count": 4,
   "metadata": {
    "collapsed": true
   },
   "outputs": [],
   "source": [
    "price_labels = ['pg_km_adj', 'pgmidgrade_km_adj', 'pe_km_adj']\n",
    "value_labels = ['value_total']\n",
    "\n",
    "# all\n",
    "Xexpd_labels = ['dv_ctb', 'dv_bh', 'dv_rec', 'dv_female', 'dv_age_25to40y', 'dv_age_morethan65y', 'dv_somesecondary', 'dv_somecollege', 'dv_carpriceadj_p75p100', 'dv_usageveh_p75p100', 'stationvisit_avgcarprice_adj', 'const']\n",
    "Xutil_labels = ['dv_ctb', 'dv_bh', 'dv_rec', 'dv_female', 'dv_age_25to40y', 'dv_age_morethan65y', 'dv_somesecondary', 'dv_somecollege', 'dv_carpriceadj_p75p100', 'dv_usageveh_p75p100', 'stationvisit_avgcarprice_adj', 'const']\n",
    "\n",
    "# usage\n",
    "#Xexpd_labels = ['choice2', 'choice3', 'dv_ctb', 'dv_bh', 'dv_rec', 'dv_female', 'dv_age_25to40y', 'dv_age_morethan65y', 'dv_somesecondary', 'dv_somecollege', 'dv_carpriceadj_p75p100', 'stationvisit_avgcarprice_adj', 'const']\n",
    "#Xutil_labels = ['dv_ctb', 'dv_bh', 'dv_rec', 'dv_female', 'dv_age_25to40y', 'dv_age_morethan65y', 'dv_somesecondary', 'dv_somecollege', 'dv_carpriceadj_p75p100', 'stationvisit_avgcarprice_adj', 'const']\n",
    "\n",
    "# car price\n",
    "#Xexpd_labels = ['dv_ctb', 'dv_bh', 'dv_rec', 'dv_female', 'dv_age_25to40y', 'dv_age_morethan65y', 'dv_somesecondary', 'dv_somecollege', 'dv_usageveh_p75p100', 'stationvisit_avgcarprice_adj', 'const']\n",
    "#Xutil_labels = ['dv_ctb', 'dv_bh', 'dv_rec', 'dv_female', 'dv_age_25to40y', 'dv_age_morethan65y', 'dv_somesecondary', 'dv_somecollege', 'dv_usageveh_p75p100', 'stationvisit_avgcarprice_adj', 'const']\n",
    "\n",
    "Xlelas_labels = ['const']\n",
    "Xlsigma_labels = ['const']\n",
    "Xlmu_labels = ['const']"
   ]
  },
  {
   "cell_type": "code",
   "execution_count": 5,
   "metadata": {
    "collapsed": true
   },
   "outputs": [],
   "source": [
    "floatX = 'float64'"
   ]
  },
  {
   "cell_type": "code",
   "execution_count": 6,
   "metadata": {
    "collapsed": false
   },
   "outputs": [],
   "source": [
    "choice = df.loc[:, 'choice'].as_matrix() - 1\n",
    "price  = df.loc[:, price_labels].as_matrix().astype(floatX)\n",
    "value  = df.loc[:, value_labels].as_matrix().astype(floatX)\n",
    "Xexpd  = df.loc[:, Xexpd_labels].as_matrix().astype(floatX)\n",
    "Xutil  = df.loc[:, Xutil_labels].as_matrix().astype(floatX)\n",
    "\n",
    "Xlelas = df.loc[:, Xlelas_labels].as_matrix().astype(floatX)\n",
    "Xlsigma = df.loc[:, Xlsigma_labels].as_matrix().astype(floatX)\n",
    "Xlmu   = df.loc[:, Xlmu_labels].as_matrix().astype(floatX)"
   ]
  },
  {
   "cell_type": "code",
   "execution_count": 7,
   "metadata": {
    "collapsed": true
   },
   "outputs": [],
   "source": [
    "nobs, nchoice = price.shape\n",
    "nobs, nXexpd = Xexpd.shape\n",
    "nobs, nXutil = Xutil.shape\n",
    "\n",
    "nobs, nXlelas = Xlelas.shape\n",
    "nobs, nXlsigma = Xlsigma.shape\n",
    "nobs, nXlmu = Xlmu.shape"
   ]
  },
  {
   "cell_type": "code",
   "execution_count": 8,
   "metadata": {
    "collapsed": false
   },
   "outputs": [],
   "source": [
    "chosenprice = price[range(nobs), choice].reshape(nobs,1)\n",
    "dvchoice = (choice == np.arange(nchoice).reshape(nchoice,1)).transpose()\n",
    "convenience_expend = 50.0\n",
    "dvconvenience = np.abs(value.squeeze()-convenience_expend) < 1e-3\n",
    "n_convenience = dvconvenience.sum()\n",
    "convenience, = np.where(dvconvenience)\n",
    "inconvenience, = np.where(~dvconvenience)"
   ]
  },
  {
   "cell_type": "code",
   "execution_count": 9,
   "metadata": {
    "collapsed": true
   },
   "outputs": [],
   "source": [
    "ndraws = 10\n",
    "draws = np.random.rand(n_convenience, ndraws)"
   ]
  },
  {
   "cell_type": "code",
   "execution_count": 10,
   "metadata": {
    "collapsed": false
   },
   "outputs": [],
   "source": [
    "import matplotlib.pyplot as plt\n",
    "%matplotlib inline\n",
    "plt.hist(draws)"
   ]
  },
  {
   "cell_type": "code",
   "execution_count": 11,
   "metadata": {
    "collapsed": true
   },
   "outputs": [],
   "source": [
    "theta0 = np.zeros(nXlelas + nXlsigma + nXlmu + nXexpd + (nchoice-1)*nXutil)\n",
    "theta0[0] = 0.1\n",
    "theta00 = np.hstack([theta0, [0.1]])"
   ]
  },
  {
   "cell_type": "code",
   "execution_count": 12,
   "metadata": {
    "collapsed": false
   },
   "outputs": [],
   "source": [
    "def getparams(theta):\n",
    "    offset = 0\n",
    "    gammalelas = theta[offset:offset+nXlelas].reshape((nXlelas, 1))\n",
    "    \n",
    "    offset += nXlelas\n",
    "    gammalsigma = theta[offset:offset+nXlsigma].reshape((nXlsigma, 1))\n",
    "    \n",
    "    offset += nXlsigma\n",
    "    gammalmu = theta[offset:offset+nXlmu].reshape((nXlmu, 1))\n",
    "    \n",
    "    offset += nXlmu\n",
    "    betaexpd = theta[offset:offset+nXexpd].reshape((nXexpd, 1))\n",
    "    \n",
    "    offset += nXexpd\n",
    "    betautil = theta[offset:offset+(nchoice-1)*nXutil].reshape((nXutil, nchoice-1))\n",
    "    \n",
    "    offset += (nchoice-1)*nXutil\n",
    "    lbenefit = theta[offset]\n",
    "    \n",
    "    return gammalelas, gammalsigma, gammalmu, betaexpd, betautil, lbenefit\n",
    "\n",
    "theta = T.dvector('theta')\n",
    "gammalelas, gammalsigma, gammalmu, betaexpd, betautil, lbenefit = getparams(theta)\n",
    "\n",
    "benefit = T.nnet.sigmoid(lbenefit)\n",
    "\n",
    "# priceT = theano.shared(price.astype(floatX), name='price')\n",
    "# pchoiceT = theaeno.shared(pchoice.astype(floatX), name='pchoice')\n",
    "# XexpdT = theano.shared(Xexpd.astype(floatX), name='Xexpd')\n",
    "# XutilT = theano.shared(Xutil.astype(floatX), name='Xutil')\n",
    "# valueT = theano.shared(value.astype(floatX), name='value')\n",
    "# XlelasT = theano.shared(Xlelas.astype(floatX), name='Xlelas')\n",
    "# XlsigmaT = theano.shared(Xlsigma.astype(floatX), name='Xlsigma')\n",
    "# XlmuT = theano.shared(Xlmu.astype(floatX), name='Xlmu')\n",
    "\n",
    "def logsumexp(x,axis):\n",
    "    maxx = T.max(x,axis=axis,keepdims=True)\n",
    "    return maxx.squeeze() + T.log(T.sum(T.exp(x-maxx),axis=axis))\n",
    "\n",
    "def logsumexp2(x,y):\n",
    "    m = T.maximum(x,y)\n",
    "    return m + T.log(T.exp(x-m) + T.exp(y-m))\n",
    "\n",
    "dvchoicef = dvchoice.astype(floatX)\n",
    "\n",
    "mu = T.exp(T.dot(Xlmu, gammalmu))\n",
    "elas = T.exp(T.dot(Xlelas, gammalelas))\n",
    "lsigma = T.dot(Xlsigma,gammalsigma)\n",
    "rho = elas - 1\n",
    "\n",
    "lconvenience_expend = np.log(convenience_expend)\n",
    "\n",
    "eta = np.log(value) + rho*np.log(chosenprice) - T.dot(Xexpd,betaexpd)\n",
    "lexpend = np.log(value) - rho*(np.log(price) - np.log(chosenprice))\n",
    "\n",
    "utilhete = T.concatenate([np.zeros((nobs,1)), T.dot(Xutil, betautil)],axis=1)\n",
    "utilquant = T.exp(lexpend)/rho\n",
    "utilconve = (T.exp((lexpend-lconvenience_expend)/elas)/(1-1/elas) - (1-benefit))*convenience_expend\n",
    "utilconve = T.maximum(utilconve, -10000)\n",
    "\n",
    "util0 = (utilquant + utilhete)/mu\n",
    "utilb = (T.maximum(utilquant,utilconve) + utilhete)/mu\n",
    "lprobchoice0 = T.sum(util0*dvchoicef,axis=1) - logsumexp(util0,1)\n",
    "lprobchoiceb = T.sum(utilb*dvchoicef,axis=1) - logsumexp(utilb,1)\n",
    "\n",
    "pbenefit = 0.5\n",
    "\n",
    "utilconvechoice = ((value/convenience_expend)**(1/elas)/(1-1/elas) - (1-benefit))*convenience_expend\n",
    "utilquantchoice = value/rho\n",
    "softplus = T.nnet.softplus((utilconvechoice-utilquantchoice)*50)\n",
    "\n",
    "lprobchoice = logsumexp2(lprobchoice0 + np.log(1-pbenefit), lprobchoiceb + np.log(pbenefit) - softplus)\n",
    "lpdfeta = eta*eta/(2*T.exp(2*lsigma)) + lsigma + np.log(2*np.pi)/2\n",
    "nlogl = -lprobchoice[inconvenience].sum() + lpdfeta[inconvenience].sum()"
   ]
  },
  {
   "cell_type": "code",
   "execution_count": 13,
   "metadata": {
    "collapsed": false
   },
   "outputs": [],
   "source": [
    "plt.hist(value,20)"
   ]
  },
  {
   "cell_type": "code",
   "execution_count": 14,
   "metadata": {
    "collapsed": true
   },
   "outputs": [],
   "source": [
    "omegal = 1e-3\n",
    "omegah = elas**(1.0+1.0/(elas-1))\n",
    "\n",
    "for i in range(7):\n",
    "    omegal = (1-elas)*(omegal**(1/elas) - 1 + benefit)/(omegal**(1/elas-1) - 1)\n",
    "    omegal = T.maximum(omegal,1e-4)\n",
    "    omegah = (1-elas)*(omegah**(1/elas) - 1 + benefit)/(omegah**(1/elas-1) - 1)\n"
   ]
  },
  {
   "cell_type": "code",
   "execution_count": 15,
   "metadata": {
    "collapsed": false
   },
   "outputs": [],
   "source": [
    "# https://pomax.github.io/bezierinfo/legendre-gauss.html\n",
    "weight = np.array([0.2491470458, 0.2491470458, 0.2334925365, 0.2334925365, \n",
    "                   0.2031674267, 0.2031674267, 0.1600783285, 0.1600783285, \n",
    "                   0.106939326, 0.106939326, 0.0471753364, 0.0471753364]).reshape(1,-1)\n",
    "abscissa = np.array([-0.1252334085, 0.1252334085, -0.367831499, 0.367831499, \n",
    "                     -0.5873179543, 0.5873179543, -0.7699026742, 0.7699026742, \n",
    "                     -0.9041172564, 0.9041172564, -0.9815606342, 0.9815606342]).reshape(1,-1)"
   ]
  },
  {
   "cell_type": "code",
   "execution_count": 16,
   "metadata": {
    "collapsed": false
   },
   "outputs": [],
   "source": [
    "# Phi(a,b)\n",
    "import scipy.stats\n",
    "a, b = -0.4, 0.2\n",
    "x = abscissa*(b-a)/2 + (b+a)/2\n",
    "\n",
    "truevalue = scipy.stats.norm.cdf(b) - scipy.stats.norm.cdf(a)\n",
    "approximation = np.sum(scipy.stats.norm.pdf(x)*weight.squeeze())*(b-a)/2\n",
    "print truevalue, approximation"
   ]
  },
  {
   "cell_type": "code",
   "execution_count": 17,
   "metadata": {
    "collapsed": false
   },
   "outputs": [],
   "source": [
    "omega = (abscissa*(omegah-omegal)/2.0 + (omegah+omegal)/2.0).dimshuffle([0,1,'x'])\n",
    "\n",
    "rho3      = rho.dimshuffle([0,'x',1])\n",
    "mu3       = mu.dimshuffle([0,'x',1])\n",
    "utilhete3 = utilhete.dimshuffle([0,'x',1])\n",
    "eta3      = eta.dimshuffle([0,'x',1])\n",
    "lexpend3  = lexpend.dimshuffle([0,'x',1])\n",
    "elas3     = elas.dimshuffle([0,'x',1])\n",
    "dvchoice3 = dvchoice.astype(floatX)[:,np.newaxis,:]\n",
    "\n",
    "omg_eta = T.log(omega) + eta3\n",
    "omg_lexpend = T.log(omega) + lexpend3\n",
    "omg_utilquant = T.exp(omg_lexpend)/rho3\n",
    "\n",
    "omg_utilconve = (T.exp((omg_lexpend-lconvenience_expend)/elas3)/(1-1/elas3)-(1-benefit))*convenience_expend\n",
    "\n",
    "omg_util = (T.maximum(omg_utilquant,omg_utilconve) + utilhete3)/mu3\n",
    "omg_lprobchoice = T.sum(omg_util*dvchoice3,axis=2) - logsumexp(omg_util,2)"
   ]
  },
  {
   "cell_type": "code",
   "execution_count": 18,
   "metadata": {
    "collapsed": false
   },
   "outputs": [],
   "source": [
    "lsigma3 = lsigma.dimshuffle([0,'x',1])\n",
    "omg_lpdfeta = (omg_eta*omg_eta/(2*T.exp(2*lsigma3)) + lsigma3 + np.log(2*np.pi)/2).squeeze()\n",
    "\n",
    "ll = omg_lprobchoice - omg_lpdfeta.squeeze() + np.log(weight) - T.log(omega).squeeze()\n",
    "ll2 = logsumexp(ll,1) + T.log((omegah-omegal)/2).squeeze() + T.log(pbenefit)"
   ]
  },
  {
   "cell_type": "code",
   "execution_count": 19,
   "metadata": {
    "collapsed": false
   },
   "outputs": [],
   "source": [
    "nlogl_total = nlogl - ll2[convenience].sum()"
   ]
  },
  {
   "cell_type": "code",
   "execution_count": 20,
   "metadata": {
    "collapsed": false
   },
   "outputs": [],
   "source": [
    "theano.function([theta], T.grad(nlogl,theta))(theta00)"
   ]
  },
  {
   "cell_type": "code",
   "execution_count": 21,
   "metadata": {
    "collapsed": false
   },
   "outputs": [],
   "source": [
    "def buildfunc(theta, nloglf):\n",
    "    return (theano.function([theta], nloglf),\n",
    "            theano.function([theta], T.grad(nloglf, theta)),\n",
    "            theano.function([theta], theano.gradient.hessian(nloglf, theta)))\n",
    "\n",
    "# eval_f, eval_grad, eval_hess = buildfunc(theta, nlogl_total)\n",
    "eval_f = theano.function([theta], nlogl_total)\n",
    "eval_grad = theano.function([theta], T.grad(nlogl_total, theta))"
   ]
  },
  {
   "cell_type": "code",
   "execution_count": 22,
   "metadata": {
    "collapsed": false
   },
   "outputs": [],
   "source": [
    "(theta00)"
   ]
  },
  {
   "cell_type": "code",
   "execution_count": 23,
   "metadata": {
    "collapsed": false
   },
   "outputs": [],
   "source": [
    "pyipopt.set_loglevel(1)\n",
    "thetahat , _, _, _, _, fval = pyipopt.fmin_unconstrained(\n",
    "    eval_f,\n",
    "    theta00,\n",
    "    fprime=eval_grad,\n",
    "    fhess=None,\n",
    "    )\n"
   ]
  },
  {
   "cell_type": "code",
   "execution_count": 24,
   "metadata": {
    "collapsed": false
   },
   "outputs": [],
   "source": [
    "theano.function([theta], T.grad(lprobchoice.sum(),theta))(thetahat)"
   ]
  },
  {
   "cell_type": "code",
   "execution_count": 25,
   "metadata": {
    "collapsed": false
   },
   "outputs": [],
   "source": [
    "\n",
    "covhat = np.linalg.inv(eval_hess(thetahat))\n",
    "sehat = np.sqrt(np.diagonal(covhat))\n",
    "t = thetahat/sehat\n",
    "\n",
    "gammalelashat, gammalsigmahat, gammalmuhat, betaexpdhat, betautilhat, bhat = getparams(thetahat)\n",
    "gammalelasse, gammalsigmase, gammalmuse, betaexpdse, betautilse, bse = getparams(sehat)\n",
    "gammalelast, gammalsigmat, gammalmut, betaexpdt, betautilt, bt = getparams(t)\n",
    "\n",
    "formatstr = '%30s%10.3f%10.3f%10.3f'\n",
    "\n",
    "print '-'*60\n",
    "\n",
    "print ' \\n*** ln(elas) equation'\n",
    "for i in range(nXlelas):\n",
    "    print formatstr % (Xlelas_labels[i], gammalelashat[i], gammalelasse[i], gammalelast[i])\n",
    "print '-'*60\n",
    "\n",
    "print ' \\n*** ln(sigma) equation'\n",
    "for i in range(nXlsigma):\n",
    "    print formatstr % (Xlsigma_labels[i], gammalsigmahat[i], gammalsigmase[i], gammalsigmat[i])\n",
    "print '-'*60\n",
    "\n",
    "print ' \\n*** ln(mu) equation'\n",
    "for i in range(nXlmu):\n",
    "    print formatstr % (Xlmu_labels[i], gammalmuhat[i], gammalmuse[i], gammalmut[i])\n",
    "print '-'*60\n",
    "\n",
    "print ' \\n*** Expenditure equation'\n",
    "for i in range(nXexpd):\n",
    "    print formatstr % (Xexpd_labels[i], betaexpdhat[i], betaexpdse[i], betaexpdt[i])\n",
    "print '-'*60\n",
    "    \n",
    "print ' \\n*** Discrete choice equation'\n",
    "for j in range(nchoice-1):\n",
    "    print '-------- choice', j+1, '------------------------------------------'\n",
    "    for i in range(nXutil):\n",
    "        print formatstr % (Xutil_labels[i], betautilhat[i][j], betautilse[i][j], betautilt[i][j])\n",
    "print '-'*60\n"
   ]
  },
  {
   "cell_type": "code",
   "execution_count": null,
   "metadata": {
    "collapsed": false
   },
   "outputs": [],
   "source": [
    "theano.function([theta], elas)(thetahat)"
   ]
  },
  {
   "cell_type": "code",
   "execution_count": null,
   "metadata": {
    "collapsed": false
   },
   "outputs": [],
   "source": [
    "print theano.function([theta],util50)(thetahat)[inconvenience]\n",
    "print theano.function([theta],utilstar)(thetahat)[inconvenience]\n",
    "print theano.function([theta],softplus)(thetahat)\n"
   ]
  }
 ],
 "metadata": {
  "anaconda-cloud": {},
  "git": {
   "suppress_outputs": true
  },
  "kernelspec": {
   "display_name": "Python [conda env:research]",
   "language": "python",
   "name": "conda-env-research-py"
  },
  "language_info": {
   "codemirror_mode": {
    "name": "ipython",
    "version": 2
   },
   "file_extension": ".py",
   "mimetype": "text/x-python",
   "name": "python",
   "nbconvert_exporter": "python",
   "pygments_lexer": "ipython2",
   "version": "2.7.12"
  }
 },
 "nbformat": 4,
 "nbformat_minor": 0
}