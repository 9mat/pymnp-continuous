{
 "cells": [
  {
   "cell_type": "code",
   "execution_count": 1,
   "metadata": {
    "collapsed": false
   },
   "outputs": [],
   "source": [
    "import pandas as pd\n",
    "import numpy as np\n",
    "import theano.tensor as T\n",
    "import theano\n",
    "import theano.gradient\n",
    "import pyipopt"
   ]
  },
  {
   "cell_type": "code",
   "execution_count": 2,
   "metadata": {
    "collapsed": false
   },
   "outputs": [],
   "source": [
    "inputfile = './data_new_volume.csv'\n",
    "df = pd.read_csv(inputfile)\n",
    "df['const'] = 1\n",
    "\n",
    "# df = df.sample(2000)\n",
    "\n",
    "df['pgmidgrade_km_adj'].fillna(value=10000, inplace=True)\n",
    "\n",
    "df = df[df['treattype'] < 3]\n",
    "for elem in df['treattype'].unique():\n",
    "    df['treat' + str(elem)] = df['treattype'] == elem\n",
    "\n",
    "for elem in df['choice'].unique():\n",
    "    df['choice' + str(elem)] = df['choice'] == elem\n",
    "\n",
    "df['treat1_topusage'] = df['treat1']*df['dv_usageveh_p75p100']\n",
    "df['treat2_topusage'] = df['treat2']*df['dv_usageveh_p75p100']\n",
    "\n",
    "df['treat1_college'] = df['treat1']*df['dv_somecollege']\n",
    "df['treat2_college'] = df['treat2']*df['dv_somecollege']\n",
    "\n",
    "df.head()"
   ]
  },
  {
   "cell_type": "code",
   "execution_count": 3,
   "metadata": {
    "collapsed": false
   },
   "outputs": [],
   "source": [
    "#df = df[ df['dv_carpriceadj_p75p100'] == 1]\n",
    "#df = df[ df['dv_usageveh_p75p100'] == 0]\n",
    "df.head()"
   ]
  },
  {
   "cell_type": "code",
   "execution_count": 4,
   "metadata": {
    "collapsed": true
   },
   "outputs": [],
   "source": [
    "price_labels = ['pg_km_adj', 'pgmidgrade_km_adj', 'pe_km_adj']\n",
    "value_labels = ['value_total']\n",
    "\n",
    "# all\n",
    "Xexpd_labels = ['dv_ctb', 'dv_bh', 'dv_rec', 'dv_female', 'dv_age_25to40y', 'dv_age_morethan65y', 'dv_somesecondary', 'dv_somecollege', 'dv_carpriceadj_p75p100', 'dv_usageveh_p75p100', 'stationvisit_avgcarprice_adj', 'const']\n",
    "Xutil_labels = ['dv_ctb', 'dv_bh', 'dv_rec', 'dv_female', 'dv_age_25to40y', 'dv_age_morethan65y', 'dv_somesecondary', 'dv_somecollege', 'dv_carpriceadj_p75p100', 'dv_usageveh_p75p100', 'stationvisit_avgcarprice_adj', 'const']\n",
    "\n",
    "# usage\n",
    "#Xexpd_labels = ['choice2', 'choice3', 'dv_ctb', 'dv_bh', 'dv_rec', 'dv_female', 'dv_age_25to40y', 'dv_age_morethan65y', 'dv_somesecondary', 'dv_somecollege', 'dv_carpriceadj_p75p100', 'stationvisit_avgcarprice_adj', 'const']\n",
    "#Xutil_labels = ['dv_ctb', 'dv_bh', 'dv_rec', 'dv_female', 'dv_age_25to40y', 'dv_age_morethan65y', 'dv_somesecondary', 'dv_somecollege', 'dv_carpriceadj_p75p100', 'stationvisit_avgcarprice_adj', 'const']\n",
    "\n",
    "# car price\n",
    "#Xexpd_labels = ['dv_ctb', 'dv_bh', 'dv_rec', 'dv_female', 'dv_age_25to40y', 'dv_age_morethan65y', 'dv_somesecondary', 'dv_somecollege', 'dv_usageveh_p75p100', 'stationvisit_avgcarprice_adj', 'const']\n",
    "#Xutil_labels = ['dv_ctb', 'dv_bh', 'dv_rec', 'dv_female', 'dv_age_25to40y', 'dv_age_morethan65y', 'dv_somesecondary', 'dv_somecollege', 'dv_usageveh_p75p100', 'stationvisit_avgcarprice_adj', 'const']\n",
    "\n",
    "Xlelas_labels = ['const']\n",
    "Xlsigma_labels = ['const']\n",
    "Xlmu_labels = ['const']"
   ]
  },
  {
   "cell_type": "code",
   "execution_count": 5,
   "metadata": {
    "collapsed": true
   },
   "outputs": [],
   "source": [
    "floatX = 'float64'"
   ]
  },
  {
   "cell_type": "code",
   "execution_count": 6,
   "metadata": {
    "collapsed": false
   },
   "outputs": [],
   "source": [
    "choice = df.loc[:, 'choice'].as_matrix() - 1\n",
    "price  = df.loc[:, price_labels].as_matrix().astype(floatX)\n",
    "value  = df.loc[:, value_labels].as_matrix().astype(floatX)\n",
    "Xexpd  = df.loc[:, Xexpd_labels].as_matrix().astype(floatX)\n",
    "Xutil  = df.loc[:, Xutil_labels].as_matrix().astype(floatX)\n",
    "\n",
    "Xlelas = df.loc[:, Xlelas_labels].as_matrix().astype(floatX)\n",
    "Xlsigma = df.loc[:, Xlsigma_labels].as_matrix().astype(floatX)\n",
    "Xlmu   = df.loc[:, Xlmu_labels].as_matrix().astype(floatX)"
   ]
  },
  {
   "cell_type": "code",
   "execution_count": 7,
   "metadata": {
    "collapsed": true
   },
   "outputs": [],
   "source": [
    "nobs, nchoice = price.shape\n",
    "nobs, nXexpd = Xexpd.shape\n",
    "nobs, nXutil = Xutil.shape\n",
    "\n",
    "nobs, nXlelas = Xlelas.shape\n",
    "nobs, nXlsigma = Xlsigma.shape\n",
    "nobs, nXlmu = Xlmu.shape"
   ]
  },
  {
   "cell_type": "code",
   "execution_count": 8,
   "metadata": {
    "collapsed": false
   },
   "outputs": [],
   "source": [
    "chosenprice = price[range(nobs), choice].reshape(nobs,1)\n",
    "dvchoice = (choice == np.arange(nchoice).reshape(nchoice,1)).transpose()\n",
    "convenience_expend = 50.0\n",
    "dvconvenience = np.abs(value.squeeze()-convenience_expend) < 1e-3\n",
    "n_convenience = dvconvenience.sum()\n",
    "convenience, = np.where(dvconvenience)\n",
    "inconvenience, = np.where(~dvconvenience)"
   ]
  },
  {
   "cell_type": "code",
   "execution_count": 9,
   "metadata": {
    "collapsed": false
   },
   "outputs": [],
   "source": [
    "print choice[:10]\n",
    "print dvchoice[:10]\n",
    "print price[:10]\n",
    "print chosenprice[:10]\n",
    "print value"
   ]
  },
  {
   "cell_type": "code",
   "execution_count": 10,
   "metadata": {
    "collapsed": true
   },
   "outputs": [],
   "source": [
    "theta0 = np.zeros(nXlelas + nXlsigma + nXlmu + nXexpd + (nchoice-1)*nXutil)\n",
    "theta0[0] = -3\n",
    "theta00 = np.hstack([theta0, [0.1]])\n",
    "theta000 = np.zeros(5+nXexpd+(nchoice-1)*nXutil)\n",
    "theta000[0] = 1"
   ]
  },
  {
   "cell_type": "code",
   "execution_count": 11,
   "metadata": {
    "collapsed": true
   },
   "outputs": [],
   "source": [
    "def logsumexp(x,axis):\n",
    "    maxx = T.max(x,axis=axis,keepdims=True)\n",
    "    return maxx.squeeze() + T.log(T.sum(T.exp(x-maxx),axis=axis))\n",
    "\n",
    "def logsumexp2(x,y):\n",
    "    m = T.maximum(x,y)\n",
    "    return m + T.log(T.exp(x-m) + T.exp(y-m))\n",
    "\n",
    "# def getparams(theta):\n",
    "#     offset = 0\n",
    "#     gammalelas = theta[offset:offset+nXlelas].reshape((nXlelas, 1))\n",
    "    \n",
    "#     offset += nXlelas\n",
    "#     gammalsigma = theta[offset:offset+nXlsigma].reshape((nXlsigma, 1))\n",
    "    \n",
    "#     offset += nXlsigma\n",
    "#     gammalmu = theta[offset:offset+nXlmu].reshape((nXlmu, 1))\n",
    "    \n",
    "#     offset += nXlmu\n",
    "#     betaexpd = theta[offset:offset+nXexpd].reshape((nXexpd, 1))\n",
    "    \n",
    "#     offset += nXexpd\n",
    "#     betautil = theta[offset:offset+(nchoice-1)*nXutil].reshape((nXutil, nchoice-1))\n",
    "    \n",
    "#     offset += (nchoice-1)*nXutil\n",
    "#     lbenefit = theta[offset]\n",
    "    \n",
    "#     return gammalelas, gammalsigma, gammalmu, betaexpd, betautil, lbenefit\n",
    "\n",
    "def getparams(theta):\n",
    "    lelas = theta[0]\n",
    "    lsigma = theta[1]\n",
    "    lmu = theta[2]\n",
    "    ltcost = theta[3]\n",
    "    ltpcost = theta[4]\n",
    "    \n",
    "    offset = 5\n",
    "    betaexpd = theta[offset:offset+nXexpd].reshape((nXexpd, 1))\n",
    "    \n",
    "    offset += nXexpd\n",
    "    betautil = theta[offset:offset+(nchoice-1)*nXutil].reshape((nXutil, nchoice-1))\n",
    "    \n",
    "    return lelas, lsigma, lmu, ltcost, ltpcost, betaexpd, betautil\n",
    "\n",
    "theta = T.dvector('theta')\n",
    "# gammalelas, gammalsigma, gammalmu, betaexpd, betautil, lbenefit = getparams(theta)\n",
    "\n",
    "lelas, lsigma, lmu, ltcost, ltpcost, betaexpd, betautil = getparams(theta)\n"
   ]
  },
  {
   "cell_type": "code",
   "execution_count": 12,
   "metadata": {
    "collapsed": false
   },
   "outputs": [],
   "source": [
    "elas = T.exp(lelas)\n",
    "mu = T.exp(lmu)\n",
    "cost = T.nnet.sigmoid(ltcost)\n",
    "pcost = T.nnet.sigmoid(ltpcost)\n",
    "\n",
    "dvchoicef = dvchoice.astype(floatX)\n",
    "\n",
    "# mu = T.exp(T.dot(Xlmu, gammalmu))\n",
    "# elas = T.exp(T.dot(Xlelas, gammalelas))\n",
    "# lsigma = T.dot(Xlsigma,gammalsigma)\n",
    "rho = elas - 1\n",
    "elasdrho = elas/rho\n",
    "\n",
    "lconvenience_expend = np.log(convenience_expend)\n",
    "\n",
    "eta = np.log(value) + rho*np.log(chosenprice) - T.dot(Xexpd,betaexpd)\n",
    "lexpend = np.log(value) - rho*(np.log(price) - np.log(chosenprice))\n",
    "\n",
    "utilhete = T.concatenate([np.zeros((nobs,1)), T.dot(Xutil, betautil)],axis=1)\n",
    "utilquant = T.exp(lexpend)/rho\n",
    "utilconve = (T.exp((lexpend-lconvenience_expend)/elas)*elasdrho - (1-cost))*convenience_expend\n",
    "utilconve = T.maximum(utilconve, -1e20*elas*elas)\n",
    "\n",
    "# util0 = (utilquant + utilhete)/mu\n",
    "# utilb = (T.maximum(utilquant,utilconve) + utilhete)/mu\n",
    "util0 = (utilquant+utilhete)/mu\n",
    "utilb = (T.maximum(utilquant,utilconve)+utilhete)/mu\n",
    "lprobchoice0 = T.sum(util0*dvchoicef,axis=1) - logsumexp(util0,1)\n",
    "lprobchoiceb = T.sum(utilb*dvchoicef,axis=1) - logsumexp(utilb,1)\n",
    "\n",
    "utilconvechoice = (T.exp(np.log(value/convenience_expend)/elas)*elasdrho - (1-cost))*convenience_expend\n",
    "utilquantchoice = value/rho\n",
    "softplus = T.nnet.softplus((utilconvechoice-utilquantchoice)*50)\n",
    "\n",
    "lprobchoice = logsumexp2(lprobchoice0 + np.log(1-pcost), lprobchoiceb + np.log(pcost) - softplus)\n",
    "lpdfeta = eta*eta/(2*T.exp(2*lsigma)) + lsigma + np.log(2*np.pi)/2\n",
    "nlogl = -lprobchoice[inconvenience].sum() + lpdfeta[inconvenience].sum()\n",
    "nlogl2 = -lprobchoice0.sum() + lpdfeta.sum()"
   ]
  },
  {
   "cell_type": "code",
   "execution_count": 13,
   "metadata": {
    "collapsed": false
   },
   "outputs": [],
   "source": [
    "# theano.function([theta], T.grad(-lprobchoice0.sum(),theta))(thetahat)"
   ]
  },
  {
   "cell_type": "code",
   "execution_count": 14,
   "metadata": {
    "collapsed": false
   },
   "outputs": [],
   "source": [
    "theano.function([theta], elas)(theta000)"
   ]
  },
  {
   "cell_type": "code",
   "execution_count": 15,
   "metadata": {
    "collapsed": false
   },
   "outputs": [],
   "source": [
    "plt.hist(value,20)"
   ]
  },
  {
   "cell_type": "code",
   "execution_count": null,
   "metadata": {
    "collapsed": true
   },
   "outputs": [],
   "source": [
    "omegal = 1e-2\n",
    "omegah = elas**(1.0+1.0/(elas-1))\n",
    "\n",
    "for i in range(7):\n",
    "    omegal = (1-elas)*(omegal**(1/elas) - 1 + cost)/(omegal**(1/elas-1) - 1)\n",
    "    omegal = T.maximum(omegal,1e-4)\n",
    "    omegah = (1-elas)*(omegah**(1/elas) - 1 + cost)/(omegah**(1/elas-1) - 1)\n"
   ]
  },
  {
   "cell_type": "code",
   "execution_count": null,
   "metadata": {
    "collapsed": false
   },
   "outputs": [],
   "source": [
    "# https://pomax.github.io/bezierinfo/legendre-gauss.html\n",
    "weight = np.array([0.2491470458, 0.2491470458, 0.2334925365, 0.2334925365, \n",
    "                   0.2031674267, 0.2031674267, 0.1600783285, 0.1600783285, \n",
    "                   0.106939326, 0.106939326, 0.0471753364, 0.0471753364]).reshape(1,-1)\n",
    "abscissa = np.array([-0.1252334085, 0.1252334085, -0.367831499, 0.367831499, \n",
    "                     -0.5873179543, 0.5873179543, -0.7699026742, 0.7699026742, \n",
    "                     -0.9041172564, 0.9041172564, -0.9815606342, 0.9815606342]).reshape(1,-1)"
   ]
  },
  {
   "cell_type": "code",
   "execution_count": null,
   "metadata": {
    "collapsed": false
   },
   "outputs": [],
   "source": [
    "# Phi(a,b)\n",
    "import scipy.stats\n",
    "a, b = -0.4, 0.2\n",
    "x = abscissa*(b-a)/2 + (b+a)/2\n",
    "\n",
    "truevalue = scipy.stats.norm.cdf(b) - scipy.stats.norm.cdf(a)\n",
    "approximation = np.sum(scipy.stats.norm.pdf(x)*weight.squeeze())*(b-a)/2\n",
    "print truevalue, approximation"
   ]
  },
  {
   "cell_type": "code",
   "execution_count": null,
   "metadata": {
    "collapsed": false
   },
   "outputs": [],
   "source": [
    "omega = (abscissa*(omegah-omegal)/2.0 + (omegah+omegal)/2.0).dimshuffle([0,1,'x'])\n",
    "\n",
    "# rho3      = rho.dimshuffle([0,'x',1])\n",
    "# mu3       = mu.dimshuffle([0,'x',1])\n",
    "# utilhete3 = utilhete.dimshuffle([0,'x',1])\n",
    "eta3      = eta.dimshuffle([0,'x',1])\n",
    "lexpend3  = lexpend.dimshuffle([0,'x',1])\n",
    "# elas3     = elas.dimshuffle([0,'x',1])\n",
    "dvchoice3 = dvchoice.astype(floatX)[:,np.newaxis,:]\n",
    "\n",
    "omg_eta = T.log(omega) + eta3\n",
    "omg_lexpend = T.log(omega) + lexpend3\n",
    "omg_utilquant = T.exp(omg_lexpend)/rho\n",
    "\n",
    "omg_utilconve = (T.exp((omg_lexpend-lconvenience_expend)/elas)*elasdrho-(1-cost))*convenience_expend\n",
    "\n",
    "# omg_util = (T.maximum(omg_utilquant,omg_utilconve) + utilhete3)/mu\n",
    "omg_util = T.maximum(omg_utilquant,omg_utilconve)/mu\n",
    "omg_lprobchoice = T.sum(omg_util*dvchoice3,axis=2) - logsumexp(omg_util,2)"
   ]
  },
  {
   "cell_type": "code",
   "execution_count": null,
   "metadata": {
    "collapsed": false
   },
   "outputs": [],
   "source": [
    "# lsigma3 = lsigma.dimshuffle([0,'x',1])\n",
    "omg_lpdfeta = (omg_eta*omg_eta/(2*T.exp(2*lsigma)) + lsigma + np.log(2*np.pi)/2).squeeze()\n",
    "ll = omg_lprobchoice - omg_lpdfeta.squeeze() + np.log(weight) - T.log(omega).squeeze()\n",
    "ll2 = logsumexp(ll,1) + T.log((omegah-omegal)/2).squeeze() + T.log(pcost)"
   ]
  },
  {
   "cell_type": "code",
   "execution_count": null,
   "metadata": {
    "collapsed": false
   },
   "outputs": [],
   "source": [
    "nlogl_total = T.minimum(nlogl - ll2[convenience].sum(), 1e20*(theta*theta+1).sum())"
   ]
  },
  {
   "cell_type": "code",
   "execution_count": null,
   "metadata": {
    "collapsed": false
   },
   "outputs": [],
   "source": [
    "theano.function([theta], theano.grad(nlogl_total,theta))(theta000)"
   ]
  },
  {
   "cell_type": "code",
   "execution_count": null,
   "metadata": {
    "collapsed": false
   },
   "outputs": [],
   "source": [
    "def buildfunc(theta, nloglf):\n",
    "    return (theano.function([theta], nloglf),\n",
    "            theano.function([theta], T.grad(nloglf, theta)),\n",
    "            theano.function([theta], theano.gradient.hessian(nloglf, theta)))\n",
    "\n",
    "# eval_f, eval_grad, eval_hess = buildfunc(theta, nlogl_total)\n",
    "eval_f = theano.function([theta], nlogl2)\n",
    "eval_grad = theano.function([theta], T.grad(nlogl2, theta))"
   ]
  },
  {
   "cell_type": "code",
   "execution_count": null,
   "metadata": {
    "collapsed": false
   },
   "outputs": [],
   "source": [
    "pyipopt.set_loglevel(1)\n",
    "thetahat , _, _, _, _, fval = pyipopt.fmin_unconstrained(\n",
    "    eval_f,\n",
    "    theta000,\n",
    "    fprime=eval_grad,\n",
    "    fhess=None,\n",
    "    )\n"
   ]
  },
  {
   "cell_type": "code",
   "execution_count": null,
   "metadata": {
    "collapsed": false
   },
   "outputs": [],
   "source": [
    "theano.function([theta], lsigma)(thetahat)\n",
    "# eval_grad(thetahat)"
   ]
  },
  {
   "cell_type": "code",
   "execution_count": null,
   "metadata": {
    "collapsed": false
   },
   "outputs": [],
   "source": [
    "\n",
    "covhat = np.linalg.inv(eval_hess(thetahat))\n",
    "sehat = np.sqrt(np.diagonal(covhat))\n",
    "t = thetahat/sehat\n",
    "\n",
    "gammalelashat, gammalsigmahat, gammalmuhat, betaexpdhat, betautilhat, bhat = getparams(thetahat)\n",
    "gammalelasse, gammalsigmase, gammalmuse, betaexpdse, betautilse, bse = getparams(sehat)\n",
    "gammalelast, gammalsigmat, gammalmut, betaexpdt, betautilt, bt = getparams(t)\n",
    "\n",
    "formatstr = '%30s%10.3f%10.3f%10.3f'\n",
    "\n",
    "print '-'*60\n",
    "\n",
    "print ' \\n*** ln(elas) equation'\n",
    "for i in range(nXlelas):\n",
    "    print formatstr % (Xlelas_labels[i], gammalelashat[i], gammalelasse[i], gammalelast[i])\n",
    "print '-'*60\n",
    "\n",
    "print ' \\n*** ln(sigma) equation'\n",
    "for i in range(nXlsigma):\n",
    "    print formatstr % (Xlsigma_labels[i], gammalsigmahat[i], gammalsigmase[i], gammalsigmat[i])\n",
    "print '-'*60\n",
    "\n",
    "print ' \\n*** ln(mu) equation'\n",
    "for i in range(nXlmu):\n",
    "    print formatstr % (Xlmu_labels[i], gammalmuhat[i], gammalmuse[i], gammalmut[i])\n",
    "print '-'*60\n",
    "\n",
    "print ' \\n*** Expenditure equation'\n",
    "for i in range(nXexpd):\n",
    "    print formatstr % (Xexpd_labels[i], betaexpdhat[i], betaexpdse[i], betaexpdt[i])\n",
    "print '-'*60\n",
    "    \n",
    "print ' \\n*** Discrete choice equation'\n",
    "for j in range(nchoice-1):\n",
    "    print '-------- choice', j+1, '------------------------------------------'\n",
    "    for i in range(nXutil):\n",
    "        print formatstr % (Xutil_labels[i], betautilhat[i][j], betautilse[i][j], betautilt[i][j])\n",
    "print '-'*60\n"
   ]
  },
  {
   "cell_type": "code",
   "execution_count": null,
   "metadata": {
    "collapsed": false
   },
   "outputs": [],
   "source": [
    "theano.function([theta], utilconve)(thetahat).min()"
   ]
  },
  {
   "cell_type": "code",
   "execution_count": null,
   "metadata": {
    "collapsed": false
   },
   "outputs": [],
   "source": [
    "print theano.function([theta],util50)(thetahat)[inconvenience]\n",
    "print theano.function([theta],utilstar)(thetahat)[inconvenience]\n",
    "print theano.function([theta],softplus)(thetahat)\n"
   ]
  }
 ],
 "metadata": {
  "anaconda-cloud": {},
  "git": {
   "suppress_outputs": true
  },
  "kernelspec": {
   "display_name": "Python [conda env:research]",
   "language": "python",
   "name": "conda-env-research-py"
  },
  "language_info": {
   "codemirror_mode": {
    "name": "ipython",
    "version": 2
   },
   "file_extension": ".py",
   "mimetype": "text/x-python",
   "name": "python",
   "nbconvert_exporter": "python",
   "pygments_lexer": "ipython2",
   "version": "2.7.12"
  }
 },
 "nbformat": 4,
 "nbformat_minor": 0
}